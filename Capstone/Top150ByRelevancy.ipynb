{
 "cells": [
  {
   "cell_type": "markdown",
   "metadata": {},
   "source": [
    "From the last step, I have created a single user-graph per month of Reddit comments. In each graph, each subreddit is a node, and each node is connected by an edge indicating the total number of users that month who posted at least one comment in both subreddits (with no edges connecting subreddits without shared users). These indicate the most frequented subreddits by user-base, and as such I can determine which subreddits are most politically motivated or frequented by the most politically-minded individuals.\n",
    "\n",
    "Some notes about the graphs:\n",
    "- Any subreddits with less than 1,000 unique posters are not included in the graph.\n",
    "- If two subreddits have a shared userbase of 10 or less users, their edge is not included.\n",
    "These were done in order to limit the size of the graph and to ignore subreddits of little consequence."
   ]
  },
  {
   "cell_type": "code",
   "execution_count": 1,
   "metadata": {
    "collapsed": true
   },
   "outputs": [],
   "source": [
    "import os\n",
    "import pickle\n",
    "import networkx as nx"
   ]
  },
  {
   "cell_type": "code",
   "execution_count": 2,
   "metadata": {
    "collapsed": true
   },
   "outputs": [],
   "source": [
    "def retrieveGraph(directory, file):\n",
    "    graph, names2values, values2names = pickle.load(open( os.path.join(directory, file), 'rb' ))\n",
    "    return graph, names2values, values2names"
   ]
  },
  {
   "cell_type": "code",
   "execution_count": 3,
   "metadata": {
    "collapsed": true
   },
   "outputs": [],
   "source": [
    "test_directory = \"/home/jayckaiser/Dropbox/DataIncubator/Capstone/\"\n",
    "test_file = 'RC_2014-01.pkl'\n",
    "\n",
    "graph, names2values, values2names = retrieveGraph(test_directory, test_file)"
   ]
  },
  {
   "cell_type": "code",
   "execution_count": 4,
   "metadata": {
    "collapsed": true
   },
   "outputs": [],
   "source": [
    "# for the ease of searching the graph, I'm making baby functions to tie to the dictionaries\n",
    "def r(subreddit):\n",
    "    if subreddit in names2values:\n",
    "        return names2values[subreddit]\n",
    "    else:\n",
    "        return 'NONE'\n",
    "\n",
    "def v(index):\n",
    "    if index in values2names:\n",
    "        return values2names[index]\n",
    "    else:\n",
    "        return 'NONE'"
   ]
  },
  {
   "cell_type": "code",
   "execution_count": 5,
   "metadata": {},
   "outputs": [
    {
     "data": {
      "text/plain": [
       "(4581, 588266)"
      ]
     },
     "execution_count": 5,
     "metadata": {},
     "output_type": "execute_result"
    }
   ],
   "source": [
    "graph.number_of_nodes(), graph.number_of_edges()"
   ]
  },
  {
   "cell_type": "markdown",
   "metadata": {},
   "source": [
    "In January, 2014, there are 4,581 subreddits with 588,266 connections between them that fit our criteria above."
   ]
  },
  {
   "cell_type": "code",
   "execution_count": 6,
   "metadata": {},
   "outputs": [
    {
     "data": {
      "text/plain": [
       "3533"
      ]
     },
     "execution_count": 6,
     "metadata": {},
     "output_type": "execute_result"
    }
   ],
   "source": [
    "graph.degree( r('politics') )"
   ]
  },
  {
   "cell_type": "markdown",
   "metadata": {},
   "source": [
    "Of these 4,581, 'r/politics' connects to 3,533 others."
   ]
  },
  {
   "cell_type": "code",
   "execution_count": 7,
   "metadata": {
    "collapsed": true
   },
   "outputs": [],
   "source": [
    "politics_neighbors = [( graph[ r('politics') ][neighbor]['weight'] , v(neighbor) )\n",
    "                      for neighbor in graph.neighbors( r('politics') )]"
   ]
  },
  {
   "cell_type": "code",
   "execution_count": 8,
   "metadata": {},
   "outputs": [
    {
     "data": {
      "text/plain": [
       "[(23301, 'AskReddit'),\n",
       " (18404, 'funny'),\n",
       " (17859, 'pics'),\n",
       " (15124, 'todayilearned'),\n",
       " (14378, 'AdviceAnimals'),\n",
       " (14218, 'worldnews'),\n",
       " (13672, 'WTF'),\n",
       " (12878, 'videos'),\n",
       " (10633, 'technology'),\n",
       " (10628, 'gaming')]"
      ]
     },
     "execution_count": 8,
     "metadata": {},
     "output_type": "execute_result"
    }
   ],
   "source": [
    "politics_neighbors = sorted(politics_neighbors, reverse=True)\n",
    "politics_neighbors[:10]"
   ]
  },
  {
   "cell_type": "markdown",
   "metadata": {},
   "source": [
    "Above are posted the top 10 jointly-posted subreddits to that of 'r/politics'. This is expected, as these are all default subreddits frequented by everyone. We can extract these from the list of default subreddits to find some more interesting results. The list below is from 2017, but the difference will not be too great."
   ]
  },
  {
   "cell_type": "code",
   "execution_count": 9,
   "metadata": {
    "collapsed": true
   },
   "outputs": [],
   "source": [
    "default_subs = [\n",
    "    'announcements', 'Art', 'AskReddit', 'askscience', 'aww', 'blog', 'books', 'creepy', 'dataisbeautiful', 'DIY', \n",
    "    'Documentaries', 'EarthPorn', 'explainlikeimfive', 'food', 'funny', 'Futurology', 'gadgets', 'gaming', 'GetMotivated', 'gifs',\n",
    "    'history', 'IAmA', 'InternetIsBeautiful', 'Jokes', 'LifeProTips', 'listentothis', 'mildlyinteresting', 'movies', 'Music', 'news', \n",
    "    'nosleep', 'nottheonion', 'OldSchoolCool', 'personalfinance', 'philosophy', 'photoshopbattles', 'pics', 'politics',\n",
    "    'science', 'Showerthoughts', 'space', 'sports', 'television', 'tifu', 'todayilearned', 'UpliftingNews' 'videos', 'worldnews'\n",
    "]"
   ]
  },
  {
   "cell_type": "code",
   "execution_count": 10,
   "metadata": {},
   "outputs": [
    {
     "data": {
      "text/plain": [
       "[(14378, 'AdviceAnimals'),\n",
       " (13672, 'WTF'),\n",
       " (12878, 'videos'),\n",
       " (10633, 'technology'),\n",
       " (5579, 'atheism'),\n",
       " (3436, 'nfl'),\n",
       " (3253, 'trees'),\n",
       " (2869, 'cringepics'),\n",
       " (2666, 'Games'),\n",
       " (2414, 'bestof'),\n",
       " (1912, 'conspiracy'),\n",
       " (1746, 'woahdude'),\n",
       " (1746, 'Android'),\n",
       " (1610, 'reactiongifs'),\n",
       " (1553, 'sex'),\n",
       " (1548, 'TrueReddit'),\n",
       " (1476, 'leagueoflegends'),\n",
       " (1476, 'Frugal'),\n",
       " (1374, 'cringe'),\n",
       " (1359, 'JusticePorn')]"
      ]
     },
     "execution_count": 10,
     "metadata": {},
     "output_type": "execute_result"
    }
   ],
   "source": [
    "politics_neighbors_minus_defaults = [(sub[0], sub[1]) for sub in politics_neighbors\n",
    "                                    if sub[1] not in default_subs]\n",
    "politics_neighbors_minus_defaults[:20]"
   ]
  },
  {
   "cell_type": "markdown",
   "metadata": {},
   "source": [
    "Of these top results, many had once been default subreddits. I'll add another list iteratively until we run out of past defaults."
   ]
  },
  {
   "cell_type": "code",
   "execution_count": 11,
   "metadata": {},
   "outputs": [
    {
     "data": {
      "text/plain": [
       "[(3253, 'trees'),\n",
       " (1746, 'Android'),\n",
       " (1548, 'TrueReddit'),\n",
       " (1476, 'leagueoflegends'),\n",
       " (1374, 'cringe'),\n",
       " (1359, 'JusticePorn'),\n",
       " (1354, 'changemyview'),\n",
       " (1313, 'Fitness'),\n",
       " (1284, 'Libertarian'),\n",
       " (1284, 'Bitcoin')]"
      ]
     },
     "execution_count": 11,
     "metadata": {},
     "output_type": "execute_result"
    }
   ],
   "source": [
    "former_default_subs = [\n",
    "    'AdviceAnimals', 'WTF', 'videos', 'technology', 'atheism', 'cringepics', 'Games', 'bestof', 'TwoXChromosomes', 'writingprompts',\n",
    "    'nfl', 'conspiracy', 'woahdude', 'reactiongifs', 'Frugal', 'sex'\n",
    "]\n",
    "\n",
    "politics_neighbors_minus_defaults = [(sub[0], sub[1]) for sub in politics_neighbors\n",
    "                                    if sub[1] not in default_subs and \n",
    "                                       sub[1] not in former_default_subs]\n",
    "politics_neighbors_minus_defaults[:10]"
   ]
  },
  {
   "cell_type": "markdown",
   "metadata": {},
   "source": [
    "These are less-default subreddits. The first one actually relating to political views in fact is the last on the list above, 'r/Libertarian'."
   ]
  },
  {
   "cell_type": "code",
   "execution_count": 12,
   "metadata": {},
   "outputs": [
    {
     "data": {
      "text/plain": [
       "[(1265, 'CFB'),\n",
       " (1246, '4chan'),\n",
       " (1219, 'nba'),\n",
       " (1199, 'pcmasterrace'),\n",
       " (1189, 'facepalm'),\n",
       " (1178, 'dogecoin'),\n",
       " (1136, 'gonewild'),\n",
       " (1113, 'Economics'),\n",
       " (1092, 'AskMen'),\n",
       " (1073, 'MapPorn'),\n",
       " (1038, 'programming'),\n",
       " (1025, 'offbeat'),\n",
       " (1018, 'PoliticalDiscussion'),\n",
       " (1016, 'SubredditDrama'),\n",
       " (987, 'guns'),\n",
       " (978, 'TumblrInAction'),\n",
       " (971, 'HistoryPorn'),\n",
       " (939, 'hockey'),\n",
       " (924, 'buildapc'),\n",
       " (915, 'ImGoingToHellForThis')]"
      ]
     },
     "execution_count": 12,
     "metadata": {},
     "output_type": "execute_result"
    }
   ],
   "source": [
    "politics_neighbors_minus_defaults[10:30]"
   ]
  },
  {
   "cell_type": "markdown",
   "metadata": {},
   "source": [
    "Interestingly enough, 'r/4chan', 'r/guns', and 'r/TumblrInAction' are all more traditionally conservative-aligned subreddits. None of these listed are traditionally liberal subreddits (minus the default 'r/TwoXChromosome,' which was removed above)."
   ]
  },
  {
   "cell_type": "code",
   "execution_count": 13,
   "metadata": {},
   "outputs": [
    {
     "data": {
      "text/plain": [
       "[(894, 'malefashionadvice'),\n",
       " (887, 'MorbidReality'),\n",
       " (866, 'circlejerk'),\n",
       " (864, 'canada'),\n",
       " (861, 'rage'),\n",
       " (836, 'relationships'),\n",
       " (829, 'hiphopheads'),\n",
       " (818, 'MensRights'),\n",
       " (797, 'business'),\n",
       " (789, 'scifi'),\n",
       " (783, 'apple'),\n",
       " (780, 'worldpolitics'),\n",
       " (779, 'fffffffuuuuuuuuuuuu'),\n",
       " (772, 'soccer'),\n",
       " (770, 'mildlyinfuriating'),\n",
       " (769, 'Minecraft'),\n",
       " (750, 'dayz'),\n",
       " (740, 'cars'),\n",
       " (734, 'gameofthrones'),\n",
       " (733, 'skyrim'),\n",
       " (717, 'DotA2'),\n",
       " (714, 'offmychest'),\n",
       " (688, 'truegaming'),\n",
       " (688, 'standupshots'),\n",
       " (684, 'skeptic'),\n",
       " (661, 'battlefield_4'),\n",
       " (659, 'NetflixBestOf'),\n",
       " (656, 'Unexpected'),\n",
       " (650, 'promos'),\n",
       " (647, 'pokemon'),\n",
       " (646, 'Bad_Cop_No_Donut'),\n",
       " (638, 'CrazyIdeas'),\n",
       " (637, 'fatpeoplestories'),\n",
       " (636, 'baseball'),\n",
       " (634, 'asoiaf'),\n",
       " (634, 'Drugs'),\n",
       " (631, 'AskWomen'),\n",
       " (630, 'TrueAtheism'),\n",
       " (627, 'geek'),\n",
       " (622, 'Steam'),\n",
       " (620, 'talesfromtechsupport'),\n",
       " (619, 'AskHistorians'),\n",
       " (616, 'wow'),\n",
       " (609, 'MURICA'),\n",
       " (605, 'community'),\n",
       " (598, 'motorcycles'),\n",
       " (594, 'nsfw'),\n",
       " (594, 'doctorwho'),\n",
       " (592, 'StarWars'),\n",
       " (590, 'investing'),\n",
       " (585, 'YouShouldKnow'),\n",
       " (585, 'Whatcouldgowrong'),\n",
       " (584, 'Conservative'),\n",
       " (580, 'PS4'),\n",
       " (576, 'sysadmin'),\n",
       " (569, 'startrek'),\n",
       " (562, 'comics'),\n",
       " (561, 'thatHappened'),\n",
       " (559, 'Justrolledintotheshop'),\n",
       " (556, 'comicbooks'),\n",
       " (546, 'self'),\n",
       " (546, 'nyc'),\n",
       " (545, 'linux'),\n",
       " (544, 'breakingbad'),\n",
       " (524, 'DoesAnybodyElse'),\n",
       " (522, 'techsupport'),\n",
       " (521, 'TalesFromRetail'),\n",
       " (520, 'magicTCG'),\n",
       " (515, 'Christianity'),\n",
       " (509, 'Cooking')]"
      ]
     },
     "execution_count": 13,
     "metadata": {},
     "output_type": "execute_result"
    }
   ],
   "source": [
    "politics_neighbors_minus_defaults[30:100]"
   ]
  },
  {
   "cell_type": "markdown",
   "metadata": {},
   "source": [
    "Looking at politically-relevant subreddits in the top 100 list that are not already defaults, we can find the following:\n",
    "- Libertarian\n",
    "- Economics\n",
    "- PoliticalDiscussion\n",
    "- worldpolitics\n",
    "- Conservative\n",
    "\n",
    "with maybe the following under consideration for their more serious content:\n",
    "- business\n",
    "- AskHistorians\n",
    "- Christianity"
   ]
  },
  {
   "cell_type": "markdown",
   "metadata": {},
   "source": [
    "For the sake of exploratory data analysis, let's create a function that'll find the top n joint subreddits for any particular sub."
   ]
  },
  {
   "cell_type": "code",
   "execution_count": 14,
   "metadata": {
    "collapsed": true
   },
   "outputs": [],
   "source": [
    "def exploreNeighbors(subreddit, n=50):\n",
    "    if r(subreddit) not in graph.nodes():\n",
    "        print(\"This sub is not present in the graph.\")\n",
    "    else:\n",
    "        degree = graph.degree( r(subreddit) )\n",
    "        print(\"r/{} has {} neighbors.\".format(subreddit, degree))\n",
    "        \n",
    "        neighbors = sorted( [( graph[ r(subreddit) ][neighbor]['weight'] , v(neighbor) )\n",
    "                             for neighbor in graph.neighbors( r(subreddit) )] , reverse=True)\n",
    "        \n",
    "        neighbors_minus_defaults = [(sub[0], sub[1]) for sub in neighbors\n",
    "                                    if sub[1] not in default_subs and \n",
    "                                    sub[1] not in former_default_subs]\n",
    "        \n",
    "        for neighbor in neighbors_minus_defaults[:n]:\n",
    "            print(neighbor)"
   ]
  },
  {
   "cell_type": "code",
   "execution_count": 15,
   "metadata": {},
   "outputs": [
    {
     "name": "stdout",
     "output_type": "stream",
     "text": [
      "r/TwoXChromosomes has 1613 neighbors.\n",
      "(1518, 'AskWomen')\n",
      "(1320, 'MakeupAddiction')\n",
      "(988, 'relationships')\n",
      "(978, 'TrollXChromosomes')\n",
      "(703, 'AskMen')\n",
      "(562, 'offmychest')\n",
      "(533, 'femalefashionadvice')\n",
      "(452, 'SkincareAddiction')\n",
      "(443, 'loseit')\n",
      "(434, 'TheGirlSurvivalGuide')\n",
      "(418, 'relationship_advice')\n",
      "(416, 'trees')\n",
      "(416, 'childfree')\n",
      "(415, 'xxfitness')\n",
      "(404, 'FancyFollicles')\n",
      "(390, 'Parenting')\n",
      "(353, 'changemyview')\n",
      "(352, 'RedditLaqueristas')\n",
      "(349, 'Fitness')\n",
      "(342, 'LadyBoners')\n",
      "(314, 'cats')\n",
      "(311, 'creepyPMs')\n",
      "(304, 'TumblrInAction')\n",
      "(291, 'OkCupid')\n",
      "(284, 'TrueReddit')\n",
      "(283, 'facepalm')\n",
      "(282, 'raisedbynarcissists')\n",
      "(280, 'TalesFromRetail')\n",
      "(275, 'fatpeoplestories')\n",
      "(270, 'GirlGamers')\n",
      "(266, 'MorbidReality')\n",
      "(262, 'self')\n",
      "(255, 'confession')\n",
      "(248, 'harrypotter')\n",
      "(245, 'cringe')\n",
      "(243, 'SubredditDrama')\n",
      "(233, 'DoesAnybodyElse')\n",
      "(227, 'BabyBumps')\n",
      "(217, 'Cooking')\n",
      "(211, 'Feminism')\n",
      "(207, 'casualiama')\n",
      "(204, 'keto')\n",
      "(204, 'dogs')\n",
      "(198, 'ABraThatFits')\n",
      "(196, 'canada')\n",
      "(195, 'progresspics')\n",
      "(194, 'mildlyinfuriating')\n",
      "(191, 'weddingplanning')\n",
      "(191, 'MensRights')\n",
      "(190, 'Sherlock')\n"
     ]
    }
   ],
   "source": [
    "exploreNeighbors('TwoXChromosomes')"
   ]
  },
  {
   "cell_type": "code",
   "execution_count": 16,
   "metadata": {},
   "outputs": [
    {
     "name": "stdout",
     "output_type": "stream",
     "text": [
      "r/WTF has 4533 neighbors.\n",
      "(12829, 'trees')\n",
      "(7183, 'leagueoflegends')\n",
      "(6234, 'cringe')\n",
      "(5866, '4chan')\n",
      "(5145, 'gonewild')\n",
      "(5129, 'pcmasterrace')\n",
      "(4310, 'ImGoingToHellForThis')\n",
      "(4296, 'facepalm')\n",
      "(4167, 'dogecoin')\n",
      "(4110, 'Android')\n",
      "(4052, 'JusticePorn')\n",
      "(3972, 'Fitness')\n",
      "(3899, 'circlejerk')\n",
      "(3869, 'pokemon')\n",
      "(3747, 'AskMen')\n",
      "(3643, 'Minecraft')\n",
      "(3608, 'MorbidReality')\n",
      "(3579, 'nba')\n",
      "(3577, 'dayz')\n",
      "(3443, 'mildlyinfuriating')\n",
      "(3340, 'buildapc')\n",
      "(3286, 'Unexpected')\n",
      "(3269, 'hockey')\n",
      "(3154, 'rage')\n",
      "(3130, 'skyrim')\n",
      "(2996, 'hiphopheads')\n",
      "(2987, 'guns')\n",
      "(2949, 'MakeupAddiction')\n",
      "(2945, 'soccer')\n",
      "(2926, 'CFB')\n",
      "(2894, 'offmychest')\n",
      "(2870, 'battlefield_4')\n",
      "(2827, 'thatHappened')\n",
      "(2827, 'relationships')\n",
      "(2740, 'GrandTheftAutoV')\n",
      "(2725, 'fffffffuuuuuuuuuuuu')\n",
      "(2718, 'TumblrInAction')\n",
      "(2709, 'malefashionadvice')\n",
      "(2688, 'AskWomen')\n",
      "(2642, 'FiftyFifty')\n",
      "(2581, 'MapPorn')\n",
      "(2564, 'cars')\n",
      "(2488, 'DotA2')\n",
      "(2459, 'wow')\n",
      "(2414, 'HistoryPorn')\n",
      "(2391, 'Bitcoin')\n",
      "(2340, 'nsfw')\n",
      "(2315, 'Whatcouldgowrong')\n",
      "(2281, 'PS4')\n",
      "(2278, 'casualiama')\n"
     ]
    }
   ],
   "source": [
    "exploreNeighbors('WTF')"
   ]
  },
  {
   "cell_type": "code",
   "execution_count": 17,
   "metadata": {
    "collapsed": true
   },
   "outputs": [],
   "source": [
    "#exploreNeighbors('ass')  # it's what you'd expect"
   ]
  },
  {
   "cell_type": "code",
   "execution_count": 18,
   "metadata": {},
   "outputs": [
    {
     "name": "stdout",
     "output_type": "stream",
     "text": [
      "r/leagueoflegends has 2556 neighbors.\n",
      "(4272, 'hearthstone')\n",
      "(4090, 'summonerschool')\n",
      "(1966, 'trees')\n",
      "(1958, 'DotA2')\n",
      "(1876, 'pokemon')\n",
      "(1743, 'wow')\n",
      "(1667, 'anime')\n",
      "(1621, 'dayz')\n",
      "(1605, 'pcmasterrace')\n",
      "(1358, 'buildapc')\n",
      "(1337, 'starcraft')\n",
      "(1261, 'dogecoin')\n",
      "(1191, 'LeagueofLegendsMeta')\n",
      "(1189, '4chan')\n",
      "(1141, 'magicTCG')\n",
      "(1047, 'Minecraft')\n",
      "(1042, 'cringe')\n",
      "(1014, 'nba')\n",
      "(986, 'soccer')\n",
      "(951, 'GlobalOffensive')\n",
      "(872, 'circlejerk')\n",
      "(815, 'hiphopheads')\n",
      "(815, 'friendsafari')\n",
      "(798, 'Steam')\n",
      "(792, 'pathofexile')\n",
      "(784, 'starbound')\n",
      "(781, 'skyrim')\n",
      "(742, 'Fitness')\n",
      "(647, 'darksouls')\n",
      "(616, 'hockey')\n",
      "(613, 'TeamRedditTeams')\n",
      "(607, 'Android')\n",
      "(601, 'teenagers')\n",
      "(597, 'Guildwars2')\n",
      "(586, 'gonewild')\n",
      "(578, 'gameofthrones')\n",
      "(567, 'AskMen')\n",
      "(566, 'TumblrInAction')\n",
      "(558, 'CFB')\n",
      "(556, 'malefashionadvice')\n",
      "(556, 'battlefield_4')\n",
      "(499, 'GameDeals')\n",
      "(498, 'truegaming')\n",
      "(494, 'techsupport')\n",
      "(473, 'ffxiv')\n",
      "(470, 'battlestations')\n",
      "(468, 'JusticePorn')\n",
      "(466, 'civ')\n",
      "(466, 'SubredditDrama')\n",
      "(464, 'LeagueOfMemes')\n"
     ]
    }
   ],
   "source": [
    "exploreNeighbors('leagueoflegends')"
   ]
  },
  {
   "cell_type": "code",
   "execution_count": 19,
   "metadata": {},
   "outputs": [
    {
     "name": "stdout",
     "output_type": "stream",
     "text": [
      "r/linguistics has 455 neighbors.\n",
      "(205, 'MapPorn')\n",
      "(145, 'badlinguistics')\n",
      "(129, 'AskHistorians')\n",
      "(108, 'languagelearning')\n",
      "(97, 'europe')\n",
      "(95, 'changemyview')\n",
      "(81, 'TrueReddit')\n",
      "(74, 'TumblrInAction')\n",
      "(72, 'polandball')\n",
      "(72, 'badhistory')\n",
      "(67, 'programming')\n",
      "(54, 'conlangs')\n",
      "(53, 'vexillology')\n",
      "(50, 'Fitness')\n",
      "(49, 'SubredditDrama')\n",
      "(49, 'AskMen')\n",
      "(47, 'Minecraft')\n",
      "(46, 'offbeat')\n",
      "(46, 'cringe')\n",
      "(45, 'math')\n",
      "(45, 'britishproblems')\n",
      "(45, 'Foodforthought')\n",
      "(44, 'tipofmytongue')\n",
      "(44, 'skeptic')\n",
      "(42, 'writing')\n",
      "(42, 'trees')\n",
      "(42, 'travel')\n",
      "(42, 'grammar')\n",
      "(42, 'Christianity')\n",
      "(42, 'Android')\n",
      "(41, 'scifi')\n",
      "(41, 'linux')\n",
      "(39, 'mildlyinfuriating')\n",
      "(38, 'soccer')\n",
      "(37, 'translator')\n",
      "(37, 'gaybros')\n",
      "(37, 'facepalm')\n",
      "(37, 'YouShouldKnow')\n",
      "(37, 'French')\n",
      "(37, '4chan')\n",
      "(36, 'thatHappened')\n",
      "(36, 'malefashionadvice')\n",
      "(36, 'dogecoin')\n",
      "(36, 'canada')\n",
      "(35, 'LearnJapanese')\n",
      "(35, 'Economics')\n",
      "(35, 'AskWomen')\n",
      "(34, 'truegaming')\n",
      "(33, 'unitedkingdom')\n",
      "(33, 'etymology')\n"
     ]
    }
   ],
   "source": [
    "exploreNeighbors('linguistics')"
   ]
  },
  {
   "cell_type": "markdown",
   "metadata": {},
   "source": [
    "I'm not going to lie. This is so much cooler than I thought it was going to be! Super fun!\n",
    "\n",
    "However, I need a means to extract the most political subs from a given month."
   ]
  },
  {
   "cell_type": "code",
   "execution_count": 20,
   "metadata": {},
   "outputs": [
    {
     "name": "stdout",
     "output_type": "stream",
     "text": [
      "r/conlangs has 52 neighbors.\n",
      "(59, 'worldbuilding')\n",
      "(54, 'linguistics')\n",
      "(27, 'MapPorn')\n",
      "(24, 'languagelearning')\n",
      "(22, 'Minecraft')\n",
      "(21, 'writing')\n",
      "(21, 'vexillology')\n",
      "(21, 'polandball')\n",
      "(20, 'badlinguistics')\n",
      "(20, 'WritingPrompts')\n",
      "(16, 'programming')\n",
      "(16, 'changemyview')\n",
      "(15, 'pokemon')\n",
      "(15, 'TumblrInAction')\n",
      "(12, 'europe')\n",
      "(12, 'civ')\n",
      "(11, 'duolingo')\n",
      "(11, 'LearnJapanese')\n",
      "(10, 'trees')\n",
      "(10, 'teenagers')\n",
      "(10, 'rpg')\n",
      "(10, 'fantasywriters')\n",
      "(10, 'Christianity')\n",
      "(10, 'AskHistorians')\n"
     ]
    }
   ],
   "source": [
    "exploreNeighbors('conlangs')"
   ]
  },
  {
   "cell_type": "code",
   "execution_count": 21,
   "metadata": {},
   "outputs": [
    {
     "name": "stdout",
     "output_type": "stream",
     "text": [
      "r/TheRedPill has 1026 neighbors.\n",
      "(495, 'AskMen')\n",
      "(476, 'asktrp')\n",
      "(373, 'MensRights')\n",
      "(339, 'relationships')\n",
      "(293, 'seduction')\n",
      "(265, 'Fitness')\n",
      "(224, 'trees')\n",
      "(215, 'changemyview')\n",
      "(208, 'RedPillWomen')\n",
      "(201, '4chan')\n",
      "(200, 'AskWomen')\n",
      "(189, 'TumblrInAction')\n",
      "(188, 'cringe')\n",
      "(170, 'offmychest')\n",
      "(159, 'leagueoflegends')\n",
      "(154, 'malefashionadvice')\n",
      "(154, 'NoFap')\n",
      "(146, 'Bitcoin')\n",
      "(139, 'TheBluePill')\n",
      "(137, 'JusticePorn')\n",
      "(132, 'relationship_advice')\n",
      "(132, 'gonewild')\n",
      "(128, 'dogecoin')\n",
      "(128, 'OkCupid')\n",
      "(127, 'hiphopheads')\n",
      "(127, 'ImGoingToHellForThis')\n",
      "(126, 'confession')\n",
      "(126, 'SubredditDrama')\n",
      "(125, 'TrueReddit')\n",
      "(124, 'pcmasterrace')\n",
      "(124, 'fatpeoplestories')\n",
      "(117, 'nba')\n",
      "(116, 'PurplePillDebate')\n",
      "(116, 'Libertarian')\n",
      "(110, 'rage')\n",
      "(108, 'MorbidReality')\n",
      "(105, 'Android')\n",
      "(104, 'circlejerk')\n",
      "(103, 'facepalm')\n",
      "(103, 'Drugs')\n",
      "(95, 'bodybuilding')\n",
      "(91, 'thatHappened')\n",
      "(90, 'RedKings')\n",
      "(89, 'guns')\n",
      "(86, 'buildapc')\n",
      "(83, 'self')\n",
      "(82, 'motorcycles')\n",
      "(82, 'keto')\n",
      "(82, 'casualiama')\n",
      "(81, 'fatlogic')\n"
     ]
    }
   ],
   "source": [
    "exploreNeighbors('TheRedPill')"
   ]
  },
  {
   "cell_type": "markdown",
   "metadata": {},
   "source": [
    "Enough exploring! We need a metric to figure out what the best subs should be for comparison. These subs should be ones that either are related to politics, or ones that are not a default for all other subreddits. Let's do this:\n",
    "compare each subreddit's neighbors and add up how often each one takes up the top spot. Those that are in the top spots the most should be ignored, as they most likely have too much data to make any strong inferences."
   ]
  },
  {
   "cell_type": "code",
   "execution_count": 22,
   "metadata": {
    "collapsed": true
   },
   "outputs": [],
   "source": [
    "from collections import defaultdict\n",
    "\n",
    "def findMostCommon(graph, n=50):    \n",
    "    popularity_dicts = [defaultdict(int) for i in range(n)]\n",
    "    \n",
    "    \n",
    "    for node in graph.nodes():\n",
    "        neighbors = sorted( [( graph[ node ][neighbor]['weight'] , neighbor )\n",
    "                             for neighbor in graph.neighbors( node )] , reverse=True)\n",
    "        \n",
    "        if len(neighbors) > n:\n",
    "            neighbors = neighbors[:n]\n",
    "        \n",
    "        for index, neighbor in enumerate(neighbors):\n",
    "            popularity_dicts[index][neighbor[1]] += 1\n",
    "            \n",
    "    return popularity_dicts\n",
    "\n",
    "\n",
    "# this will get rid of any outlier subreddits\n",
    "def simplify_pop_dicts(popularity_dicts,  defaultlist = None):\n",
    "    def v(index):\n",
    "        if index in values2names:\n",
    "            return values2names[index]\n",
    "        else:\n",
    "            return 'NONE'\n",
    "    \n",
    "    if defaultlist is None:\n",
    "        defaultlist = []\n",
    "    \n",
    "    \n",
    "    for index, ranked_dict in enumerate(popularity_dicts):\n",
    "        \n",
    "        unsorted_indexed_list = [(value, v(key)) for (key, value) in popularity_dicts[index].items()\n",
    "                                  if value > 10 and v(key) not in defaultlist]\n",
    "        popularity_dicts[index] = sorted(unsorted_indexed_list, reverse=True)\n",
    "    \n",
    "    return popularity_dicts"
   ]
  },
  {
   "cell_type": "code",
   "execution_count": 23,
   "metadata": {
    "collapsed": true
   },
   "outputs": [],
   "source": [
    "test_dict = simplify_pop_dicts( findMostCommon(graph) )"
   ]
  },
  {
   "cell_type": "code",
   "execution_count": 24,
   "metadata": {},
   "outputs": [
    {
     "data": {
      "text/plain": [
       "[(3531, 'AskReddit'),\n",
       " (48, 'gonewild'),\n",
       " (41, 'nfl'),\n",
       " (37, 'hockey'),\n",
       " (33, 'soccer'),\n",
       " (32, 'dogecoin'),\n",
       " (29, 'nba'),\n",
       " (26, 'leagueoflegends'),\n",
       " (25, 'funny'),\n",
       " (22, 'trees'),\n",
       " (21, 'Bitcoin'),\n",
       " (14, 'pokemon'),\n",
       " (14, 'guns'),\n",
       " (13, 'magicTCG'),\n",
       " (13, 'electronic_cigarette'),\n",
       " (12, 'Minecraft'),\n",
       " (12, 'GrandTheftAutoV'),\n",
       " (11, 'buildapc'),\n",
       " (11, 'anime')]"
      ]
     },
     "execution_count": 24,
     "metadata": {},
     "output_type": "execute_result"
    }
   ],
   "source": [
    "sorted(test_dict[0], reverse=True)"
   ]
  },
  {
   "cell_type": "code",
   "execution_count": 25,
   "metadata": {},
   "outputs": [
    {
     "data": {
      "text/plain": [
       "[(1508, 'funny'),\n",
       " (976, 'pics'),\n",
       " (836, 'AskReddit'),\n",
       " (236, 'gaming'),\n",
       " (42, 'WTF'),\n",
       " (33, 'worldnews'),\n",
       " (28, 'todayilearned'),\n",
       " (26, 'videos'),\n",
       " (25, 'IAmA'),\n",
       " (20, 'technology'),\n",
       " (20, 'Android'),\n",
       " (19, 'dogemarket'),\n",
       " (19, 'AdviceAnimals'),\n",
       " (17, 'gonewild'),\n",
       " (15, 'trees'),\n",
       " (15, 'gonewildcurvy'),\n",
       " (15, 'baseball'),\n",
       " (13, 'MakeupAddiction'),\n",
       " (12, 'sex'),\n",
       " (12, 'nfl'),\n",
       " (12, 'movies'),\n",
       " (12, 'dogecoin')]"
      ]
     },
     "execution_count": 25,
     "metadata": {},
     "output_type": "execute_result"
    }
   ],
   "source": [
    "sorted(test_dict[1], reverse=True)"
   ]
  },
  {
   "cell_type": "code",
   "execution_count": 26,
   "metadata": {},
   "outputs": [
    {
     "data": {
      "text/plain": [
       "[(1700, 'funny'),\n",
       " (1575, 'pics'),\n",
       " (224, 'gaming'),\n",
       " (125, 'AskReddit'),\n",
       " (106, 'AdviceAnimals'),\n",
       " (80, 'WTF'),\n",
       " (62, 'todayilearned'),\n",
       " (47, 'IAmA'),\n",
       " (33, 'worldnews'),\n",
       " (32, 'technology'),\n",
       " (31, 'videos'),\n",
       " (26, 'nfl'),\n",
       " (12, 'movies')]"
      ]
     },
     "execution_count": 26,
     "metadata": {},
     "output_type": "execute_result"
    }
   ],
   "source": [
    "sorted(test_dict[2], reverse=True)"
   ]
  },
  {
   "cell_type": "code",
   "execution_count": 27,
   "metadata": {
    "collapsed": true
   },
   "outputs": [],
   "source": [
    "def pastThePostSubs(popularity_lists):\n",
    "    topN = set()\n",
    "    \n",
    "    for pop_list in popularity_lists:\n",
    "        for (value, subreddit) in pop_list:\n",
    "            if subreddit not in topN:\n",
    "                topN.add(subreddit)\n",
    "                break\n",
    "    \n",
    "    return topN"
   ]
  },
  {
   "cell_type": "code",
   "execution_count": 28,
   "metadata": {
    "collapsed": true
   },
   "outputs": [],
   "source": [
    "new_defaults = pastThePostSubs(test_dict)"
   ]
  },
  {
   "cell_type": "code",
   "execution_count": 29,
   "metadata": {},
   "outputs": [
    {
     "data": {
      "text/plain": [
       "({'4chan',\n",
       "  'AdviceAnimals',\n",
       "  'Android',\n",
       "  'AskMen',\n",
       "  'AskReddit',\n",
       "  'AskWomen',\n",
       "  'Fitness',\n",
       "  'Frugal',\n",
       "  'Games',\n",
       "  'IAmA',\n",
       "  'LifeProTips',\n",
       "  'Minecraft',\n",
       "  'Music',\n",
       "  'TrueReddit',\n",
       "  'WTF',\n",
       "  'atheism',\n",
       "  'aww',\n",
       "  'bestof',\n",
       "  'books',\n",
       "  'buildapc',\n",
       "  'circlejerk',\n",
       "  'cringe',\n",
       "  'cringepics',\n",
       "  'dogecoin',\n",
       "  'explainlikeimfive',\n",
       "  'facepalm',\n",
       "  'funny',\n",
       "  'gaming',\n",
       "  'gifs',\n",
       "  'leagueoflegends',\n",
       "  'malefashionadvice',\n",
       "  'mildlyinfuriating',\n",
       "  'mildlyinteresting',\n",
       "  'movies',\n",
       "  'news',\n",
       "  'nfl',\n",
       "  'nottheonion',\n",
       "  'pcmasterrace',\n",
       "  'pics',\n",
       "  'politics',\n",
       "  'reactiongifs',\n",
       "  'science',\n",
       "  'sex',\n",
       "  'technology',\n",
       "  'television',\n",
       "  'todayilearned',\n",
       "  'trees',\n",
       "  'videos',\n",
       "  'woahdude',\n",
       "  'worldnews'},\n",
       " 50)"
      ]
     },
     "execution_count": 29,
     "metadata": {},
     "output_type": "execute_result"
    }
   ],
   "source": [
    "new_defaults, len(new_defaults)"
   ]
  },
  {
   "cell_type": "markdown",
   "metadata": {},
   "source": [
    "This is now the top 50 most popular subreddits, as determined by a past-the-post counting system. Luckily, only 'r/politics' is politically important (with maybe the exception of 'r/worldnews' and 'r/news'. We can edit the function above and repeat the process to determine the top 150 subreddits for actual parsing."
   ]
  },
  {
   "cell_type": "code",
   "execution_count": 30,
   "metadata": {
    "collapsed": true
   },
   "outputs": [],
   "source": [
    "final150 = pastThePostSubs( simplify_pop_dicts( findMostCommon(graph, 150), defaultlist=new_defaults) )"
   ]
  },
  {
   "cell_type": "code",
   "execution_count": 31,
   "metadata": {},
   "outputs": [
    {
     "data": {
      "text/plain": [
       "({'AbandonedPorn',\n",
       "  'AnimalsBeingJerks',\n",
       "  'ArcherFX',\n",
       "  'Bitcoin',\n",
       "  'CFB',\n",
       "  'Cooking',\n",
       "  'CrazyIdeas',\n",
       "  'DIY',\n",
       "  'DoesAnybodyElse',\n",
       "  'DotA2',\n",
       "  'Drugs',\n",
       "  'EarthPorn',\n",
       "  'Fallout',\n",
       "  'FiftyFifty',\n",
       "  'FoodPorn',\n",
       "  'Futurology',\n",
       "  'GameDeals',\n",
       "  'GetMotivated',\n",
       "  'GrandTheftAutoV',\n",
       "  'Guitar',\n",
       "  'HistoryPorn',\n",
       "  'ImGoingToHellForThis',\n",
       "  'InternetIsBeautiful',\n",
       "  'Jokes',\n",
       "  'JusticePorn',\n",
       "  'Justrolledintotheshop',\n",
       "  'KerbalSpaceProgram',\n",
       "  'Libertarian',\n",
       "  'MURICA',\n",
       "  'MakeupAddiction',\n",
       "  'MapPorn',\n",
       "  'MensRights',\n",
       "  'MorbidReality',\n",
       "  'NetflixBestOf',\n",
       "  'OkCupid',\n",
       "  'OutOfTheLoop',\n",
       "  'PS4',\n",
       "  'RealGirls',\n",
       "  'Sherlock',\n",
       "  'Showerthoughts',\n",
       "  'SquaredCircle',\n",
       "  'StarWars',\n",
       "  'Steam',\n",
       "  'SubredditDrama',\n",
       "  'TalesFromRetail',\n",
       "  'TumblrInAction',\n",
       "  'TwoXChromosomes',\n",
       "  'Unexpected',\n",
       "  'Whatcouldgowrong',\n",
       "  'YouShouldKnow',\n",
       "  'anime',\n",
       "  'apple',\n",
       "  'askscience',\n",
       "  'asoiaf',\n",
       "  'battlefield_4',\n",
       "  'bicycling',\n",
       "  'breakingbad',\n",
       "  'britishproblems',\n",
       "  'canada',\n",
       "  'cars',\n",
       "  'casualiama',\n",
       "  'cats',\n",
       "  'changemyview',\n",
       "  'comicbooks',\n",
       "  'comics',\n",
       "  'community',\n",
       "  'confession',\n",
       "  'conspiracy',\n",
       "  'creepy',\n",
       "  'dataisbeautiful',\n",
       "  'dayz',\n",
       "  'doctorwho',\n",
       "  'dogemarket',\n",
       "  'drunk',\n",
       "  'electronic_cigarette',\n",
       "  'fatpeoplestories',\n",
       "  'fffffffuuuuuuuuuuuu',\n",
       "  'firstworldanarchists',\n",
       "  'food',\n",
       "  'fullmoviesonyoutube',\n",
       "  'gameofthrones',\n",
       "  'geek',\n",
       "  'gentlemanboners',\n",
       "  'gonewild',\n",
       "  'guns',\n",
       "  'harrypotter',\n",
       "  'hiphopheads',\n",
       "  'hockey',\n",
       "  'keto',\n",
       "  'lifehacks',\n",
       "  'nba',\n",
       "  'nostalgia',\n",
       "  'nsfw',\n",
       "  'oddlysatisfying',\n",
       "  'offbeat',\n",
       "  'offmychest',\n",
       "  'outside',\n",
       "  'personalfinance',\n",
       "  'photoshopbattles',\n",
       "  'pokemon',\n",
       "  'programming',\n",
       "  'promos',\n",
       "  'rage',\n",
       "  'relationships',\n",
       "  'scifi',\n",
       "  'self',\n",
       "  'skyrim',\n",
       "  'soccer',\n",
       "  'space',\n",
       "  'sports',\n",
       "  'standupshots',\n",
       "  'startrek',\n",
       "  'talesfromtechsupport',\n",
       "  'techsupport',\n",
       "  'techsupportgore',\n",
       "  'teenagers',\n",
       "  'tf2',\n",
       "  'thatHappened',\n",
       "  'tifu',\n",
       "  'tipofmytongue',\n",
       "  'travel',\n",
       "  'truegaming',\n",
       "  'unitedkingdom',\n",
       "  'whatisthisthing',\n",
       "  'wheredidthesodago',\n",
       "  'wow',\n",
       "  'writing'},\n",
       " 127)"
      ]
     },
     "execution_count": 31,
     "metadata": {},
     "output_type": "execute_result"
    }
   ],
   "source": [
    "final150, len(final150)"
   ]
  },
  {
   "cell_type": "markdown",
   "metadata": {},
   "source": [
    "I'm not sure if I like this method. Let's try a different one."
   ]
  },
  {
   "cell_type": "code",
   "execution_count": 32,
   "metadata": {
    "collapsed": true
   },
   "outputs": [],
   "source": [
    "def total_sums(popularity_lists, n=50):\n",
    "    final = len(popularity_lists)\n",
    "    \n",
    "    topN = defaultdict(int)\n",
    "    for index, pop_list in enumerate(popularity_lists):\n",
    "        for (value, subreddit) in pop_list:\n",
    "            topN[subreddit] += (final - index) * value\n",
    "    \n",
    "    sorted_subs = sorted( [(value, key) for (key, value) in topN.items()], reverse=True )[:n]\n",
    "    return set(key for (value, key) in sorted_subs)"
   ]
  },
  {
   "cell_type": "code",
   "execution_count": 33,
   "metadata": {
    "collapsed": true
   },
   "outputs": [],
   "source": [
    "different_defaults = total_sums(test_dict)"
   ]
  },
  {
   "cell_type": "code",
   "execution_count": 34,
   "metadata": {},
   "outputs": [
    {
     "data": {
      "text/plain": [
       "{'4chan',\n",
       " 'AdviceAnimals',\n",
       " 'Android',\n",
       " 'AskMen',\n",
       " 'AskReddit',\n",
       " 'AskWomen',\n",
       " 'CFB',\n",
       " 'Fitness',\n",
       " 'Frugal',\n",
       " 'Games',\n",
       " 'IAmA',\n",
       " 'LifeProTips',\n",
       " 'Minecraft',\n",
       " 'Music',\n",
       " 'WTF',\n",
       " 'atheism',\n",
       " 'aww',\n",
       " 'bestof',\n",
       " 'books',\n",
       " 'buildapc',\n",
       " 'cringe',\n",
       " 'cringepics',\n",
       " 'dogecoin',\n",
       " 'explainlikeimfive',\n",
       " 'funny',\n",
       " 'gaming',\n",
       " 'gifs',\n",
       " 'gonewild',\n",
       " 'hiphopheads',\n",
       " 'leagueoflegends',\n",
       " 'mildlyinteresting',\n",
       " 'movies',\n",
       " 'nba',\n",
       " 'news',\n",
       " 'nfl',\n",
       " 'nottheonion',\n",
       " 'pcmasterrace',\n",
       " 'pics',\n",
       " 'pokemon',\n",
       " 'politics',\n",
       " 'reactiongifs',\n",
       " 'science',\n",
       " 'sex',\n",
       " 'technology',\n",
       " 'television',\n",
       " 'todayilearned',\n",
       " 'trees',\n",
       " 'videos',\n",
       " 'woahdude',\n",
       " 'worldnews'}"
      ]
     },
     "execution_count": 34,
     "metadata": {},
     "output_type": "execute_result"
    }
   ],
   "source": [
    "different_defaults"
   ]
  },
  {
   "cell_type": "code",
   "execution_count": 35,
   "metadata": {},
   "outputs": [
    {
     "data": {
      "text/plain": [
       "(45,\n",
       " {'4chan',\n",
       "  'AdviceAnimals',\n",
       "  'Android',\n",
       "  'AskMen',\n",
       "  'AskReddit',\n",
       "  'AskWomen',\n",
       "  'Fitness',\n",
       "  'Frugal',\n",
       "  'Games',\n",
       "  'IAmA',\n",
       "  'LifeProTips',\n",
       "  'Minecraft',\n",
       "  'Music',\n",
       "  'WTF',\n",
       "  'atheism',\n",
       "  'aww',\n",
       "  'bestof',\n",
       "  'books',\n",
       "  'buildapc',\n",
       "  'cringe',\n",
       "  'cringepics',\n",
       "  'dogecoin',\n",
       "  'explainlikeimfive',\n",
       "  'funny',\n",
       "  'gaming',\n",
       "  'gifs',\n",
       "  'leagueoflegends',\n",
       "  'mildlyinteresting',\n",
       "  'movies',\n",
       "  'news',\n",
       "  'nfl',\n",
       "  'nottheonion',\n",
       "  'pcmasterrace',\n",
       "  'pics',\n",
       "  'politics',\n",
       "  'reactiongifs',\n",
       "  'science',\n",
       "  'sex',\n",
       "  'technology',\n",
       "  'television',\n",
       "  'todayilearned',\n",
       "  'trees',\n",
       "  'videos',\n",
       "  'woahdude',\n",
       "  'worldnews'})"
      ]
     },
     "execution_count": 35,
     "metadata": {},
     "output_type": "execute_result"
    }
   ],
   "source": [
    "intersected = new_defaults.intersection(different_defaults)\n",
    "len(intersected), intersected"
   ]
  },
  {
   "cell_type": "markdown",
   "metadata": {},
   "source": [
    "These two methods yield almost identical results, but I prefer the methodology of the second one. Let's verify this is the case for the important 150 subreddits as well."
   ]
  },
  {
   "cell_type": "code",
   "execution_count": 36,
   "metadata": {
    "collapsed": true
   },
   "outputs": [],
   "source": [
    "different_final150 = total_sums( simplify_pop_dicts( findMostCommon(graph, 150), defaultlist=different_defaults), 150 )"
   ]
  },
  {
   "cell_type": "code",
   "execution_count": 37,
   "metadata": {},
   "outputs": [
    {
     "data": {
      "text/plain": [
       "(146,\n",
       " {'AbandonedPorn',\n",
       "  'AnimalsBeingJerks',\n",
       "  'ArcherFX',\n",
       "  'Bitcoin',\n",
       "  'Cooking',\n",
       "  'CrappyDesign',\n",
       "  'CrazyIdeas',\n",
       "  'DIY',\n",
       "  'DoesAnybodyElse',\n",
       "  'DotA2',\n",
       "  'Drugs',\n",
       "  'EarthPorn',\n",
       "  'Fallout',\n",
       "  'FiftyFifty',\n",
       "  'FoodPorn',\n",
       "  'Futurology',\n",
       "  'GameDeals',\n",
       "  'GetMotivated',\n",
       "  'GrandTheftAutoV',\n",
       "  'Guitar',\n",
       "  'HistoryPorn',\n",
       "  'ImGoingToHellForThis',\n",
       "  'InternetIsBeautiful',\n",
       "  'Jokes',\n",
       "  'JusticePorn',\n",
       "  'Justrolledintotheshop',\n",
       "  'KerbalSpaceProgram',\n",
       "  'Libertarian',\n",
       "  'MURICA',\n",
       "  'MakeupAddiction',\n",
       "  'MapPorn',\n",
       "  'MensRights',\n",
       "  'MorbidReality',\n",
       "  'NSFW_GIF',\n",
       "  'NetflixBestOf',\n",
       "  'NoStupidQuestions',\n",
       "  'OkCupid',\n",
       "  'OldSchoolCool',\n",
       "  'OutOfTheLoop',\n",
       "  'PS4',\n",
       "  'RealGirls',\n",
       "  'Sherlock',\n",
       "  'Showerthoughts',\n",
       "  'SquaredCircle',\n",
       "  'StarWars',\n",
       "  'Steam',\n",
       "  'SubredditDrama',\n",
       "  'TalesFromRetail',\n",
       "  'TrueReddit',\n",
       "  'TumblrInAction',\n",
       "  'TwoXChromosomes',\n",
       "  'Unexpected',\n",
       "  'Whatcouldgowrong',\n",
       "  'YouShouldKnow',\n",
       "  'anime',\n",
       "  'apple',\n",
       "  'askscience',\n",
       "  'asoiaf',\n",
       "  'baseball',\n",
       "  'battlefield_4',\n",
       "  'battlestations',\n",
       "  'beards',\n",
       "  'bicycling',\n",
       "  'breakingbad',\n",
       "  'britishproblems',\n",
       "  'canada',\n",
       "  'cars',\n",
       "  'casualiama',\n",
       "  'cats',\n",
       "  'changemyview',\n",
       "  'circlejerk',\n",
       "  'comicbooks',\n",
       "  'comics',\n",
       "  'community',\n",
       "  'confession',\n",
       "  'conspiracy',\n",
       "  'creepy',\n",
       "  'dadjokes',\n",
       "  'dataisbeautiful',\n",
       "  'dayz',\n",
       "  'doctorwho',\n",
       "  'dogemarket',\n",
       "  'drunk',\n",
       "  'electronic_cigarette',\n",
       "  'facepalm',\n",
       "  'fatpeoplestories',\n",
       "  'fffffffuuuuuuuuuuuu',\n",
       "  'firstworldanarchists',\n",
       "  'food',\n",
       "  'fullmoviesonyoutube',\n",
       "  'gameofthrones',\n",
       "  'geek',\n",
       "  'gentlemanboners',\n",
       "  'gonewildcurvy',\n",
       "  'guns',\n",
       "  'harrypotter',\n",
       "  'hockey',\n",
       "  'jailbreak',\n",
       "  'keto',\n",
       "  'lifehacks',\n",
       "  'loseit',\n",
       "  'magicTCG',\n",
       "  'malefashionadvice',\n",
       "  'mildlyinfuriating',\n",
       "  'motorcycles',\n",
       "  'nostalgia',\n",
       "  'nsfw',\n",
       "  'nsfw_gifs',\n",
       "  'oddlysatisfying',\n",
       "  'offbeat',\n",
       "  'offmychest',\n",
       "  'outside',\n",
       "  'pcgaming',\n",
       "  'personalfinance',\n",
       "  'photoshopbattles',\n",
       "  'programming',\n",
       "  'promos',\n",
       "  'rage',\n",
       "  'relationship_advice',\n",
       "  'relationships',\n",
       "  'scifi',\n",
       "  'self',\n",
       "  'skeptic',\n",
       "  'skyrim',\n",
       "  'soccer',\n",
       "  'space',\n",
       "  'sports',\n",
       "  'standupshots',\n",
       "  'startrek',\n",
       "  'sysadmin',\n",
       "  'talesfromtechsupport',\n",
       "  'techsupport',\n",
       "  'techsupportgore',\n",
       "  'teenagers',\n",
       "  'tf2',\n",
       "  'thatHappened',\n",
       "  'tifu',\n",
       "  'tipofmytongue',\n",
       "  'travel',\n",
       "  'truegaming',\n",
       "  'unitedkingdom',\n",
       "  'whatisthisthing',\n",
       "  'wheredidthesodago',\n",
       "  'whowouldwin',\n",
       "  'wow',\n",
       "  'writing'})"
      ]
     },
     "execution_count": 37,
     "metadata": {},
     "output_type": "execute_result"
    }
   ],
   "source": [
    "len(different_final150), different_final150"
   ]
  },
  {
   "cell_type": "code",
   "execution_count": 38,
   "metadata": {},
   "outputs": [
    {
     "data": {
      "text/plain": [
       "(122,\n",
       " {'AbandonedPorn',\n",
       "  'AnimalsBeingJerks',\n",
       "  'ArcherFX',\n",
       "  'Bitcoin',\n",
       "  'Cooking',\n",
       "  'CrazyIdeas',\n",
       "  'DIY',\n",
       "  'DoesAnybodyElse',\n",
       "  'DotA2',\n",
       "  'Drugs',\n",
       "  'EarthPorn',\n",
       "  'Fallout',\n",
       "  'FiftyFifty',\n",
       "  'FoodPorn',\n",
       "  'Futurology',\n",
       "  'GameDeals',\n",
       "  'GetMotivated',\n",
       "  'GrandTheftAutoV',\n",
       "  'Guitar',\n",
       "  'HistoryPorn',\n",
       "  'ImGoingToHellForThis',\n",
       "  'InternetIsBeautiful',\n",
       "  'Jokes',\n",
       "  'JusticePorn',\n",
       "  'Justrolledintotheshop',\n",
       "  'KerbalSpaceProgram',\n",
       "  'Libertarian',\n",
       "  'MURICA',\n",
       "  'MakeupAddiction',\n",
       "  'MapPorn',\n",
       "  'MensRights',\n",
       "  'MorbidReality',\n",
       "  'NetflixBestOf',\n",
       "  'OkCupid',\n",
       "  'OutOfTheLoop',\n",
       "  'PS4',\n",
       "  'RealGirls',\n",
       "  'Sherlock',\n",
       "  'Showerthoughts',\n",
       "  'SquaredCircle',\n",
       "  'StarWars',\n",
       "  'Steam',\n",
       "  'SubredditDrama',\n",
       "  'TalesFromRetail',\n",
       "  'TumblrInAction',\n",
       "  'TwoXChromosomes',\n",
       "  'Unexpected',\n",
       "  'Whatcouldgowrong',\n",
       "  'YouShouldKnow',\n",
       "  'anime',\n",
       "  'apple',\n",
       "  'askscience',\n",
       "  'asoiaf',\n",
       "  'battlefield_4',\n",
       "  'bicycling',\n",
       "  'breakingbad',\n",
       "  'britishproblems',\n",
       "  'canada',\n",
       "  'cars',\n",
       "  'casualiama',\n",
       "  'cats',\n",
       "  'changemyview',\n",
       "  'comicbooks',\n",
       "  'comics',\n",
       "  'community',\n",
       "  'confession',\n",
       "  'conspiracy',\n",
       "  'creepy',\n",
       "  'dataisbeautiful',\n",
       "  'dayz',\n",
       "  'doctorwho',\n",
       "  'dogemarket',\n",
       "  'drunk',\n",
       "  'electronic_cigarette',\n",
       "  'fatpeoplestories',\n",
       "  'fffffffuuuuuuuuuuuu',\n",
       "  'firstworldanarchists',\n",
       "  'food',\n",
       "  'fullmoviesonyoutube',\n",
       "  'gameofthrones',\n",
       "  'geek',\n",
       "  'gentlemanboners',\n",
       "  'guns',\n",
       "  'harrypotter',\n",
       "  'hockey',\n",
       "  'keto',\n",
       "  'lifehacks',\n",
       "  'nostalgia',\n",
       "  'nsfw',\n",
       "  'oddlysatisfying',\n",
       "  'offbeat',\n",
       "  'offmychest',\n",
       "  'outside',\n",
       "  'personalfinance',\n",
       "  'photoshopbattles',\n",
       "  'programming',\n",
       "  'promos',\n",
       "  'rage',\n",
       "  'relationships',\n",
       "  'scifi',\n",
       "  'self',\n",
       "  'skyrim',\n",
       "  'soccer',\n",
       "  'space',\n",
       "  'sports',\n",
       "  'standupshots',\n",
       "  'startrek',\n",
       "  'talesfromtechsupport',\n",
       "  'techsupport',\n",
       "  'techsupportgore',\n",
       "  'teenagers',\n",
       "  'tf2',\n",
       "  'thatHappened',\n",
       "  'tifu',\n",
       "  'tipofmytongue',\n",
       "  'travel',\n",
       "  'truegaming',\n",
       "  'unitedkingdom',\n",
       "  'whatisthisthing',\n",
       "  'wheredidthesodago',\n",
       "  'wow',\n",
       "  'writing'})"
      ]
     },
     "execution_count": 38,
     "metadata": {},
     "output_type": "execute_result"
    }
   ],
   "source": [
    "final150_intersect = final150.intersection(different_final150)\n",
    "len(final150_intersect), final150_intersect"
   ]
  },
  {
   "cell_type": "markdown",
   "metadata": {},
   "source": [
    "Yep, almost identical. Close enough where I don't think it'll matter too much. In the final searching, we'll add a custom-made list of political and state subreddits as well for the sake of completeness. For the moment, these will work great! Also, because we'll be adding those other ones later, let's limit these lists to the top 100."
   ]
  },
  {
   "cell_type": "code",
   "execution_count": 39,
   "metadata": {
    "collapsed": true
   },
   "outputs": [],
   "source": [
    "def saveDefaultsAndN(graph, values2names, final_count=100):\n",
    "\n",
    "    # limit the graph down to the most important\n",
    "    def findMostCommon(graph, n=50):    \n",
    "        popularity_dicts = [defaultdict(int) for i in range(n)]\n",
    "\n",
    "\n",
    "        for node in graph.nodes():\n",
    "            neighbors = sorted( [( graph[ node ][neighbor]['weight'] , neighbor )\n",
    "                                 for neighbor in graph.neighbors( node )] , reverse=True)\n",
    "\n",
    "            if len(neighbors) > n:\n",
    "                neighbors = neighbors[:n]\n",
    "\n",
    "            for index, neighbor in enumerate(neighbors):\n",
    "                popularity_dicts[index][neighbor[1]] += 1\n",
    "\n",
    "        return popularity_dicts\n",
    "\n",
    "    # this will get rid of any outlier subreddits\n",
    "    def simplify_pop_dicts(popularity_dicts,  defaultlist = None):\n",
    "        def v(index):\n",
    "            if index in values2names:\n",
    "                return values2names[index]\n",
    "            else:\n",
    "                return 'NONE'\n",
    "\n",
    "        if defaultlist is None:\n",
    "            defaultlist = []\n",
    "\n",
    "\n",
    "        for index, ranked_dict in enumerate(popularity_dicts):\n",
    "\n",
    "            unsorted_indexed_list = [(value, v(key)) for (key, value) in popularity_dicts[index].items()\n",
    "                                      if value > 10 and v(key) not in defaultlist]\n",
    "            popularity_dicts[index] = sorted(unsorted_indexed_list, reverse=True)\n",
    "\n",
    "        return popularity_dicts\n",
    "    \n",
    "    # return a final list of subs\n",
    "    def total_sums(popularity_lists, n=50):\n",
    "        final = len(popularity_lists)\n",
    "\n",
    "        topN = defaultdict(int)\n",
    "        for index, pop_list in enumerate(popularity_lists):\n",
    "            for (value, subreddit) in pop_list:\n",
    "                topN[subreddit] += (final - index) * value\n",
    "\n",
    "        sorted_subs = sorted( [(value, key) for (key, value) in topN.items()], reverse=True )[:n]\n",
    "        return set(key for (value, key) in sorted_subs)\n",
    "    \n",
    "    \n",
    "    \n",
    "    # actual_code    \n",
    "    defaults = total_sums(simplify_pop_dicts( findMostCommon(graph) ))\n",
    "    finalN = total_sums( simplify_pop_dicts( findMostCommon(graph, final_count),\n",
    "                                               defaultlist=defaults),\n",
    "                           final_count )\n",
    "    \n",
    "    return defaults, finalN\n",
    "\n",
    "\n",
    "def pickleDefaultsAndN(directory, file, defaults_N):\n",
    "    pickle.dump( defaults_N, open(os.path.join(directory, file), 'wb') )\n",
    "    print('Finished {}.'.format(file), end='\\r')"
   ]
  },
  {
   "cell_type": "code",
   "execution_count": 40,
   "metadata": {},
   "outputs": [
    {
     "data": {
      "text/plain": [
       "(50, 100)"
      ]
     },
     "execution_count": 40,
     "metadata": {},
     "output_type": "execute_result"
    }
   ],
   "source": [
    "sample_defaults, sampleN = saveDefaultsAndN(graph, values2names)\n",
    "len(sample_defaults), len(sampleN)"
   ]
  },
  {
   "cell_type": "code",
   "execution_count": 41,
   "metadata": {},
   "outputs": [
    {
     "ename": "FileNotFoundError",
     "evalue": "[Errno 2] No such file or directory: '/media/jayckaiser/My Passport/reddit/user_graphs/RC_2012-03.pkl'",
     "output_type": "error",
     "traceback": [
      "\u001b[0;31m---------------------------------------------------------------------------\u001b[0m",
      "\u001b[0;31mFileNotFoundError\u001b[0m                         Traceback (most recent call last)",
      "\u001b[0;32m<timed exec>\u001b[0m in \u001b[0;36m<module>\u001b[0;34m()\u001b[0m\n",
      "\u001b[0;32m<ipython-input-2-b1a86d231b7d>\u001b[0m in \u001b[0;36mretrieveGraph\u001b[0;34m(directory, file)\u001b[0m\n\u001b[1;32m      1\u001b[0m \u001b[0;32mdef\u001b[0m \u001b[0mretrieveGraph\u001b[0m\u001b[0;34m(\u001b[0m\u001b[0mdirectory\u001b[0m\u001b[0;34m,\u001b[0m \u001b[0mfile\u001b[0m\u001b[0;34m)\u001b[0m\u001b[0;34m:\u001b[0m\u001b[0;34m\u001b[0m\u001b[0m\n\u001b[0;32m----> 2\u001b[0;31m     \u001b[0mgraph\u001b[0m\u001b[0;34m,\u001b[0m \u001b[0mnames2values\u001b[0m\u001b[0;34m,\u001b[0m \u001b[0mvalues2names\u001b[0m \u001b[0;34m=\u001b[0m \u001b[0mpickle\u001b[0m\u001b[0;34m.\u001b[0m\u001b[0mload\u001b[0m\u001b[0;34m(\u001b[0m\u001b[0mopen\u001b[0m\u001b[0;34m(\u001b[0m \u001b[0mos\u001b[0m\u001b[0;34m.\u001b[0m\u001b[0mpath\u001b[0m\u001b[0;34m.\u001b[0m\u001b[0mjoin\u001b[0m\u001b[0;34m(\u001b[0m\u001b[0mdirectory\u001b[0m\u001b[0;34m,\u001b[0m \u001b[0mfile\u001b[0m\u001b[0;34m)\u001b[0m\u001b[0;34m,\u001b[0m \u001b[0;34m'rb'\u001b[0m \u001b[0;34m)\u001b[0m\u001b[0;34m)\u001b[0m\u001b[0;34m\u001b[0m\u001b[0m\n\u001b[0m\u001b[1;32m      3\u001b[0m     \u001b[0;32mreturn\u001b[0m \u001b[0mgraph\u001b[0m\u001b[0;34m,\u001b[0m \u001b[0mnames2values\u001b[0m\u001b[0;34m,\u001b[0m \u001b[0mvalues2names\u001b[0m\u001b[0;34m\u001b[0m\u001b[0m\n",
      "\u001b[0;31mFileNotFoundError\u001b[0m: [Errno 2] No such file or directory: '/media/jayckaiser/My Passport/reddit/user_graphs/RC_2012-03.pkl'"
     ]
    }
   ],
   "source": [
    "%%time\n",
    "graphs_directory = '/media/jayckaiser/My Passport/reddit/user_graphs'\n",
    "topsubreddits_directory = '/media/jayckaiser/My Passport/reddit/top_subs'\n",
    "\n",
    "# files_to_do = sorted(os.listdir(graphs_directory))\n",
    "files_to_do = ['RC_2012-03.pkl']\n",
    "\n",
    "for file in files_to_do:\n",
    "    graph, names2values, values2names = retrieveGraph(graphs_directory, file)\n",
    "    defaults_topN = saveDefaultsAndN(graph, values2names)\n",
    "    \n",
    "    pickleDefaultsAndN(topsubreddits_directory, file, defaults_topN)"
   ]
  },
  {
   "cell_type": "markdown",
   "metadata": {},
   "source": [
    "And to finally test whether this worked:"
   ]
  },
  {
   "cell_type": "code",
   "execution_count": 42,
   "metadata": {},
   "outputs": [
    {
     "data": {
      "text/plain": [
       "(50,\n",
       " {'AdviceAnimals',\n",
       "  'Android',\n",
       "  'AskReddit',\n",
       "  'Bitcoin',\n",
       "  'BlackPeopleTwitter',\n",
       "  'CrappyDesign',\n",
       "  'CringeAnarchy',\n",
       "  'Games',\n",
       "  'IAmA',\n",
       "  'Jokes',\n",
       "  'LifeProTips',\n",
       "  'Music',\n",
       "  'NintendoSwitch',\n",
       "  'OldSchoolCool',\n",
       "  'Overwatch',\n",
       "  'Showerthoughts',\n",
       "  'StarWarsBattlefront',\n",
       "  'WTF',\n",
       "  'aww',\n",
       "  'dankmemes',\n",
       "  'funny',\n",
       "  'gaming',\n",
       "  'gifs',\n",
       "  'gonewild',\n",
       "  'iamverysmart',\n",
       "  'insanepeoplefacebook',\n",
       "  'interestingasfuck',\n",
       "  'leagueoflegends',\n",
       "  'mildlyinfuriating',\n",
       "  'mildlyinteresting',\n",
       "  'movies',\n",
       "  'nba',\n",
       "  'news',\n",
       "  'nfl',\n",
       "  'nottheonion',\n",
       "  'oddlysatisfying',\n",
       "  'pcmasterrace',\n",
       "  'personalfinance',\n",
       "  'pics',\n",
       "  'politics',\n",
       "  'relationships',\n",
       "  'science',\n",
       "  'sports',\n",
       "  'starterpacks',\n",
       "  'technology',\n",
       "  'television',\n",
       "  'todayilearned',\n",
       "  'trashy',\n",
       "  'videos',\n",
       "  'worldnews'})"
      ]
     },
     "execution_count": 42,
     "metadata": {},
     "output_type": "execute_result"
    }
   ],
   "source": [
    "latest_file = os.listdir(topsubreddits_directory)[-1]\n",
    "\n",
    "latest_defaults, latest_topN = pickle.load(open(os.path.join(topsubreddits_directory, latest_file),\n",
    "                                               'rb')\n",
    "                                          )\n",
    "len(latest_defaults), latest_defaults"
   ]
  },
  {
   "cell_type": "code",
   "execution_count": 43,
   "metadata": {},
   "outputs": [
    {
     "data": {
      "text/plain": [
       "(100,\n",
       " {'ATBGE',\n",
       "  'AsiansGoneWild',\n",
       "  'AskMen',\n",
       "  'AskOuija',\n",
       "  'AskWomen',\n",
       "  'BetterEveryLoop',\n",
       "  'BustyPetite',\n",
       "  'CFB',\n",
       "  'ComedyCemetery',\n",
       "  'CryptoCurrency',\n",
       "  'DIY',\n",
       "  'Damnthatsinteresting',\n",
       "  'DestinyTheGame',\n",
       "  'DnD',\n",
       "  'Documentaries',\n",
       "  'EarthPorn',\n",
       "  'FellowKids',\n",
       "  'Frugal',\n",
       "  'Futurology',\n",
       "  'HumansBeingBros',\n",
       "  'JusticeServed',\n",
       "  'Justrolledintotheshop',\n",
       "  'LateStageCapitalism',\n",
       "  'Libertarian',\n",
       "  'MadeMeSmile',\n",
       "  'MapPorn',\n",
       "  'MurderedByWords',\n",
       "  'NSFW_GIF',\n",
       "  'NatureIsFuckingLit',\n",
       "  'NoStupidQuestions',\n",
       "  'PS4',\n",
       "  'PUBATTLEGROUNDS',\n",
       "  'PetiteGoneWild',\n",
       "  'PoliticalHumor',\n",
       "  'PrequelMemes',\n",
       "  'ProgrammerHumor',\n",
       "  'PublicFreakout',\n",
       "  'RealGirls',\n",
       "  'RoastMe',\n",
       "  'SquaredCircle',\n",
       "  'StarWars',\n",
       "  'StrangerThings',\n",
       "  'SubredditDrama',\n",
       "  'The_Donald',\n",
       "  'Tinder',\n",
       "  'TumblrInAction',\n",
       "  'TwoXChromosomes',\n",
       "  'UnethicalLifeProTips',\n",
       "  'Unexpected',\n",
       "  'UpliftingNews',\n",
       "  'Wellthatsucks',\n",
       "  'Whatcouldgowrong',\n",
       "  'anime',\n",
       "  'apple',\n",
       "  'baseball',\n",
       "  'bestof',\n",
       "  'blackmagicfuckery',\n",
       "  'books',\n",
       "  'buildapc',\n",
       "  'canada',\n",
       "  'conspiracy',\n",
       "  'dataisbeautiful',\n",
       "  'europe',\n",
       "  'explainlikeimfive',\n",
       "  'facepalm',\n",
       "  'fantasyfootball',\n",
       "  'food',\n",
       "  'gatekeeping',\n",
       "  'gonewild30plus',\n",
       "  'hearthstone',\n",
       "  'hiphopheads',\n",
       "  'hmmm',\n",
       "  'hockey',\n",
       "  'iamverybadass',\n",
       "  'iphone',\n",
       "  'justneckbeardthings',\n",
       "  'marvelstudios',\n",
       "  'me_irl',\n",
       "  'niceguys',\n",
       "  'nonononoyes',\n",
       "  'nostalgia',\n",
       "  'oldpeoplefacebook',\n",
       "  'pawg',\n",
       "  'pcgaming',\n",
       "  'pokemon',\n",
       "  'quityourbullshit',\n",
       "  'reactiongifs',\n",
       "  'rickandmorty',\n",
       "  'sex',\n",
       "  'soccer',\n",
       "  'space',\n",
       "  'thatHappened',\n",
       "  'therewasanattempt',\n",
       "  'tifu',\n",
       "  'trees',\n",
       "  'wholesomememes',\n",
       "  'wifesharing',\n",
       "  'woahdude',\n",
       "  'wow',\n",
       "  'xboxone'})"
      ]
     },
     "execution_count": 43,
     "metadata": {},
     "output_type": "execute_result"
    }
   ],
   "source": [
    "len(latest_topN), latest_topN"
   ]
  },
  {
   "cell_type": "code",
   "execution_count": null,
   "metadata": {
    "collapsed": true
   },
   "outputs": [],
   "source": []
  }
 ],
 "metadata": {
  "kernelspec": {
   "display_name": "Python 3",
   "language": "python",
   "name": "python3"
  },
  "language_info": {
   "codemirror_mode": {
    "name": "ipython",
    "version": 3
   },
   "file_extension": ".py",
   "mimetype": "text/x-python",
   "name": "python",
   "nbconvert_exporter": "python",
   "pygments_lexer": "ipython3",
   "version": "3.6.3"
  }
 },
 "nbformat": 4,
 "nbformat_minor": 2
}
