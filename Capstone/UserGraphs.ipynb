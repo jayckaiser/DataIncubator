{
 "cells": [
  {
   "cell_type": "markdown",
   "metadata": {},
   "source": [
    "In the previous notebook, I found the most common subreddits based on their overall frequencies. However, it is not true that the average individual is guaranteed to vote in an election. Instead, those who are already politically inclined are far more likely to vote, and as such their stance matters most. As such, let's figure out a different metric for determining relevant subreddits, utilizing unique user-ids in 'r/politics'."
   ]
  },
  {
   "cell_type": "code",
   "execution_count": 1,
   "metadata": {
    "collapsed": true
   },
   "outputs": [],
   "source": [
    "import networkx as nx\n",
    "import pickle\n",
    "import os\n",
    "import sys\n",
    "import itertools as it"
   ]
  },
  {
   "cell_type": "code",
   "execution_count": 2,
   "metadata": {
    "collapsed": true
   },
   "outputs": [],
   "source": [
    "def file2graph(directory, file, n=100, k=10):\n",
    "    subreddits = pickle.load(open(os.path.join(directory, file), 'rb'))\n",
    "    \n",
    "    count = 0\n",
    "    greater_than_n_names = {}\n",
    "    greater_than_n_values = {}\n",
    "    \n",
    "    for sub in subreddits.keys():\n",
    "        if len(subreddits.get(sub).get('unique_users')) > n:\n",
    "            greater_than_n_names[sub] = count\n",
    "            greater_than_n_values[count] = sub\n",
    "            count += 1\n",
    "    print(\"Built dictionary structures for {}.\".format(file), end='\\r')\n",
    "    \n",
    "    subreddit_graph = nx.Graph()\n",
    "    \n",
    "    for combo in it.combinations(greater_than_n_names.keys(), 2):\n",
    "        \n",
    "        subreddit1 = combo[0]\n",
    "        subreddit2 = combo[1]\n",
    "        \n",
    "        subreddit1_index = greater_than_n_names[subreddit1]\n",
    "        subreddit2_index = greater_than_n_names[subreddit2]\n",
    "        \n",
    "        left_users = subreddits.get(subreddit1).get(\"unique_users\")\n",
    "        right_users = subreddits.get(subreddit2).get(\"unique_users\")\n",
    "            \n",
    "        joint_user_count = len( left_users.intersection(right_users) )\n",
    "        \n",
    "        if joint_user_count < k:\n",
    "            continue\n",
    "        \n",
    "        subreddit_graph.add_edge(subreddit1_index, subreddit2_index, weight=int(joint_user_count))\n",
    "        #print(\"{:^20} <--{:-^7}--> {:^20} \".format(subreddit1, joint_user_count, subreddit2), end='\\r', flush=True)\n",
    "    \n",
    "    print(\"Created graph for {}.\".format(file), end='\\r', flush=True)\n",
    "    return subreddit_graph, greater_than_n_names, greater_than_n_values\n",
    "\n",
    "\n",
    "def pickleGraph(directory, file, graph_structures):\n",
    "    pickle.dump(graph_structures, open(os.path.join(directory, file), 'wb'))\n",
    "    print(\"Pickled graph for {}.\".format(file), flush=True)"
   ]
  },
  {
   "cell_type": "code",
   "execution_count": 3,
   "metadata": {},
   "outputs": [
    {
     "name": "stdout",
     "output_type": "stream",
     "text": [
      "Pickled graph for RC_2014-07.pkl.C_2014-07.pkl.\n",
      "Pickled graph for RC_2014-08.pkl.C_2014-08.pkl.\n",
      "Pickled graph for RC_2014-09.pkl.C_2014-09.pkl.\n",
      "Pickled graph for RC_2014-10.pkl.C_2014-10.pkl.\n",
      "Pickled graph for RC_2014-11.pkl.C_2014-11.pkl.\n",
      "Pickled graph for RC_2014-12.pkl.C_2014-12.pkl.\n",
      "Pickled graph for RC_2015-01.pkl.C_2015-01.pkl.\n",
      "Pickled graph for RC_2015-02.pkl.C_2015-02.pkl.\n",
      "Pickled graph for RC_2015-03.pkl.C_2015-03.pkl.\n",
      "Pickled graph for RC_2015-04.pkl.C_2015-04.pkl.\n",
      "Pickled graph for RC_2015-05.pkl.C_2015-05.pkl.\n",
      "Pickled graph for RC_2015-06.pkl.C_2015-06.pkl.\n",
      "Pickled graph for RC_2015-07.pkl.C_2015-07.pkl.\n",
      "Pickled graph for RC_2015-08.pkl.C_2015-08.pkl.\n",
      "Pickled graph for RC_2015-09.pkl.C_2015-09.pkl.\n",
      "Pickled graph for RC_2015-10.pkl.C_2015-10.pkl.\n",
      "Pickled graph for RC_2015-11.pkl.C_2015-11.pkl.\n",
      "Pickled graph for RC_2015-12.pkl.C_2015-12.pkl.\n",
      "Pickled graph for RC_2016-01.pkl.C_2016-01.pkl.\n",
      "Pickled graph for RC_2016-02.pkl.C_2016-02.pkl.\n",
      "Pickled graph for RC_2016-03.pkl.C_2016-03.pkl.\n",
      "Pickled graph for RC_2016-04.pkl.C_2016-04.pkl.\n",
      "Pickled graph for RC_2016-05.pkl.C_2016-05.pkl.\n",
      "Pickled graph for RC_2016-06.pkl.C_2016-06.pkl.\n",
      "Pickled graph for RC_2016-07.pkl.C_2016-07.pkl.\n",
      "Pickled graph for RC_2016-08.pkl.C_2016-08.pkl.\n",
      "Pickled graph for RC_2016-09.pkl.C_2016-09.pkl.\n",
      "Pickled graph for RC_2016-10.pkl.C_2016-10.pkl.\n",
      "Pickled graph for RC_2016-11.pkl.C_2016-11.pkl.\n",
      "Pickled graph for RC_2016-12.pkl.C_2016-12.pkl.\n",
      "Pickled graph for RC_2017-01.pkl.C_2017-01.pkl.\n",
      "Pickled graph for RC_2017-02.pkl.C_2017-02.pkl.\n",
      "Pickled graph for RC_2017-03.pkl.C_2017-03.pkl.\n",
      "Pickled graph for RC_2017-04.pkl.C_2017-04.pkl.\n",
      "Pickled graph for RC_2017-05.pkl.C_2017-05.pkl.\n",
      "Pickled graph for RC_2017-06.pkl.C_2017-06.pkl.\n",
      "Pickled graph for RC_2017-07.pkl.C_2017-07.pkl.\n",
      "Pickled graph for RC_2017-08.pkl.C_2017-08.pkl.\n",
      "Pickled graph for RC_2017-09.pkl.C_2017-09.pkl.\n",
      "Pickled graph for RC_2017-10.pkl.C_2017-10.pkl.\n",
      "Pickled graph for RC_2017-11.pkl.C_2017-11.pkl.\n",
      "CPU times: user 3h 5min 39s, sys: 29.7 s, total: 3h 6min 9s\n",
      "Wall time: 3h 8min 52s\n"
     ]
    }
   ],
   "source": [
    "%%time\n",
    "# # Ubuntu\n",
    "stats_directory = \"/media/jayckaiser/My Passport/reddit/stats/\"\n",
    "graphs_directory = \"/media/jayckaiser/My Passport/reddit/user_graphs/\"\n",
    "\n",
    "# files_to_do = sorted(os.listdir(stats_directory))\n",
    "files_to_do = ['RC_2012-03.pkl']\n",
    "\n",
    "for file in files_to_do:\n",
    "    if file >= \"RC_2014-07.pkl\":  # it crashed, so here is a way to keep going.\n",
    "        pickleGraph(graphs_directory, file,   file2graph(stats_directory, file))"
   ]
  },
  {
   "cell_type": "code",
   "execution_count": null,
   "metadata": {
    "collapsed": true
   },
   "outputs": [],
   "source": []
  }
 ],
 "metadata": {
  "kernelspec": {
   "display_name": "Python 3",
   "language": "python",
   "name": "python3"
  },
  "language_info": {
   "codemirror_mode": {
    "name": "ipython",
    "version": 3
   },
   "file_extension": ".py",
   "mimetype": "text/x-python",
   "name": "python",
   "nbconvert_exporter": "python",
   "pygments_lexer": "ipython3",
   "version": "3.6.3"
  }
 },
 "nbformat": 4,
 "nbformat_minor": 2
}
