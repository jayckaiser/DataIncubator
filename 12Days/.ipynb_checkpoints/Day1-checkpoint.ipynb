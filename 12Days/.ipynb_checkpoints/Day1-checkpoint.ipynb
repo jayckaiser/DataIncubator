{
 "cells": [
  {
   "cell_type": "markdown",
   "metadata": {},
   "source": [
    "# Day 1"
   ]
  },
  {
   "cell_type": "code",
   "execution_count": 1,
   "metadata": {
    "collapsed": true
   },
   "outputs": [],
   "source": [
    "import re, timeit, random"
   ]
  },
  {
   "cell_type": "markdown",
   "metadata": {
    "collapsed": true
   },
   "source": [
    "## Chapter 3"
   ]
  },
  {
   "cell_type": "code",
   "execution_count": 2,
   "metadata": {
    "collapsed": true
   },
   "outputs": [],
   "source": [
    "class Stack:\n",
    "    def __init__(self):\n",
    "        self.items = []\n",
    "\n",
    "    def isEmpty(self):\n",
    "        return self.items == []\n",
    "\n",
    "    def push(self, item):\n",
    "        self.items.append(item)\n",
    "\n",
    "    def pop(self):\n",
    "        return self.items.pop()\n",
    "\n",
    "    def peek(self):\n",
    "        return self.items[len(self.items) - 1]\n",
    "\n",
    "    def size(self):\n",
    "        return len(self.items)"
   ]
  },
  {
   "cell_type": "code",
   "execution_count": 11,
   "metadata": {
    "collapsed": true
   },
   "outputs": [],
   "source": [
    "def parChecker(symbolString):\n",
    "    s = Stack()\n",
    "    balanced = True\n",
    "    index = 0\n",
    "    while index < len(symbolString) and balanced:\n",
    "        symbol = symbolString[index]\n",
    "        if symbol == \"(\":\n",
    "            s.push(symbol)\n",
    "        elif symbol == \")\":\n",
    "            if s.isEmpty():\n",
    "                balanced = False\n",
    "            else:\n",
    "                s.pop()\n",
    "\n",
    "        index += 1\n",
    "\n",
    "    return (balanced and s.isEmpty())\n",
    "\n",
    "\n",
    "def fixSpacing(inputString):\n",
    "    \"\"\"\n",
    "    Convert poorly-spaced string to a better-spaced one.\n",
    "\n",
    "    :param inputString:\n",
    "    :return:\n",
    "    \"\"\"\n",
    "    tokenList = []\n",
    "    for token in inputString:\n",
    "        if token != \" \":\n",
    "            tokenList.append(token)\n",
    "\n",
    "    return tokenList\n",
    "\n",
    "\n",
    "def popAndCompute(operandStack, op):\n",
    "    def doMath(op, op1, op2):\n",
    "        try:\n",
    "            if op == \"*\":\n",
    "                return op1 * op2\n",
    "            elif op == \"/\":\n",
    "                return op1 / op2\n",
    "            elif op == \"+\":\n",
    "                return op1 + op2\n",
    "            elif op == \"-\":\n",
    "                return op1 + -op2\n",
    "            elif op == \"^\":\n",
    "                return op1 ** op2\n",
    "        except KeyError:\n",
    "            print(\"{} not recognized.\".format(op))\n",
    "            raise KeyError\n",
    "\n",
    "    operand2 = operandStack.pop()\n",
    "    operand1 = operandStack.pop()\n",
    "    result = doMath(op, operand1, operand2)\n",
    "    operandStack.push(result)"
   ]
  },
  {
   "cell_type": "markdown",
   "metadata": {},
   "source": [
    "### Exercise 1\n",
    "\n",
    "\"Modify the postfix evaluation algorithm so that it can handle errors.\""
   ]
  },
  {
   "cell_type": "code",
   "execution_count": 4,
   "metadata": {
    "collapsed": true
   },
   "outputs": [],
   "source": [
    "def infixToPostfix(infixexpr):\n",
    "    prec = {\n",
    "        \"^\": 4,\n",
    "        \"*\": 3,\n",
    "        \"/\": 3,\n",
    "        \"+\": 2,\n",
    "        \"-\": 2,\n",
    "        \"(\": 1,\n",
    "    }\n",
    "    opStack = Stack()\n",
    "    postfixList = []\n",
    "\n",
    "    # ensure there are equal numbers of left and right parentheses\n",
    "    if not parChecker(infixexpr):\n",
    "        return \"Mismatched parentheses.\"\n",
    "\n",
    "    tokenList = fixSpacing(infixexpr)\n",
    "\n",
    "    # actual implementation\n",
    "    for token in tokenList:\n",
    "        if token in \"ABCDEFGHIJKLMNOPQRSTUVWXYZ\" or token in \"0123456789\":\n",
    "            postfixList.append(token)\n",
    "        elif token == '(':\n",
    "            opStack.push(token)\n",
    "        elif token == ')':\n",
    "            topToken = opStack.pop()\n",
    "            while topToken != '(':\n",
    "                postfixList.append(topToken)\n",
    "                topToken = opStack.pop()\n",
    "        else:\n",
    "            while (not opStack.isEmpty()) and \\\n",
    "                    (prec[opStack.peek()] >= prec[token]):\n",
    "                postfixList.append(opStack.pop())\n",
    "            opStack.push(token)\n",
    "\n",
    "    while not opStack.isEmpty():\n",
    "        postfixList.append(opStack.pop())\n",
    "    return \" \".join(postfixList)"
   ]
  },
  {
   "cell_type": "code",
   "execution_count": 5,
   "metadata": {},
   "outputs": [
    {
     "name": "stdout",
     "output_type": "stream",
     "text": [
      "A B * C D * +\n",
      "A B * C D * +\n",
      "A B + C * D E - F G + * -\n",
      "A B + C * D E - F G + * -\n",
      "Mismatched parentheses.\n",
      "Mismatched parentheses.\n"
     ]
    }
   ],
   "source": [
    "print(infixToPostfix(\"A * B + C * D\"))\n",
    "print(infixToPostfix(\"A*B+C*D\"))\n",
    "print(infixToPostfix(\"( A + B ) * C - ( D - E ) * ( F + G )\"))\n",
    "print(infixToPostfix(\"(A+B) * C - (D - E )* ( F +G)\"))\n",
    "print(infixToPostfix(\"( A + B ) * C - ( D - E )) * ( F + G )\"))\n",
    "print(infixToPostfix(\"( A + B ) * (C - ( D - E ) * ( F + G )\"))"
   ]
  },
  {
   "cell_type": "markdown",
   "metadata": {},
   "source": [
    "### Exercise 2\n",
    "\n",
    "\"Modify the postfix evaluation algorithm so that it can handle errors.\""
   ]
  },
  {
   "cell_type": "code",
   "execution_count": 26,
   "metadata": {
    "collapsed": true
   },
   "outputs": [],
   "source": [
    "def postfixEval(postfixExpr):\n",
    "    operandStack = Stack()\n",
    "\n",
    "    tokenList = fixSpacing(postfixExpr)\n",
    "\n",
    "    for token in tokenList:\n",
    "        if token in \"0123456789\":\n",
    "            operandStack.push(int(token))\n",
    "        elif token in \"ABCDEFGHIJKLMNOPQRSTUVWXYZ\":\n",
    "            print(\"Variables like '{}' are currently not supported at this time.\".format(token))\n",
    "            raise KeyError\n",
    "        else:\n",
    "            popAndCompute(operandStack, token)\n",
    "    return operandStack.pop()"
   ]
  },
  {
   "cell_type": "code",
   "execution_count": 27,
   "metadata": {},
   "outputs": [
    {
     "name": "stdout",
     "output_type": "stream",
     "text": [
      "3.0\n",
      "3.0\n"
     ]
    }
   ],
   "source": [
    "print(postfixEval('7 8 + 3 2 + /'))\n",
    "print(postfixEval('7 8+3 2 + /'))\n",
    "# print(postfixEval('7 8 + 3 A + /'))"
   ]
  },
  {
   "cell_type": "markdown",
   "metadata": {},
   "source": [
    "### Exercise 3\n",
    "\n",
    "\"Implement a direct infix evaluator that combines the functionality of infix-to-postfix conversion and the postfix\n",
    "evaluation algorithm. Your evaluator should process infix tokens from left to right and use two stacks, one for\n",
    "operators and one for operands, to perform the evaluation.\""
   ]
  },
  {
   "cell_type": "code",
   "execution_count": 13,
   "metadata": {
    "collapsed": true
   },
   "outputs": [],
   "source": [
    "def infixToPostfixEval(infixexpr):\n",
    "    prec = {\n",
    "        \"^\": 4,\n",
    "        \"*\": 3,\n",
    "        \"/\": 3,\n",
    "        \"+\": 2,\n",
    "        \"-\": 2,\n",
    "        \"(\": 1,\n",
    "    }\n",
    "    operatorStack = Stack()\n",
    "    operandStack = Stack()\n",
    "\n",
    "    # ensure there are equal numbers of left and right parentheses\n",
    "    if not parChecker(infixexpr):\n",
    "        return \"Mismatched parentheses.\"\n",
    "\n",
    "    tokenList = fixSpacing(infixexpr)\n",
    "\n",
    "    # actual implementation\n",
    "    for token in tokenList:\n",
    "        if token in \"0123456789\":\n",
    "            operandStack.push(int(token))\n",
    "        elif token == '(':\n",
    "            operatorStack.push(token)\n",
    "        elif token == ')':\n",
    "            topToken = operatorStack.pop()\n",
    "            while topToken != '(':\n",
    "                popAndCompute(operandStack, topToken)\n",
    "                topToken = operatorStack.pop()\n",
    "        else:\n",
    "            while (not operatorStack.isEmpty()) and \\\n",
    "                    (prec[operatorStack.peek()] >= prec[token]):\n",
    "                popAndCompute(operandStack, operatorStack.pop())\n",
    "            else:\n",
    "                operatorStack.push(token)\n",
    "\n",
    "    while not operatorStack.isEmpty():\n",
    "        popAndCompute(operandStack, operatorStack.pop())\n",
    "\n",
    "    return operandStack.pop()"
   ]
  },
  {
   "cell_type": "code",
   "execution_count": 14,
   "metadata": {},
   "outputs": [
    {
     "name": "stdout",
     "output_type": "stream",
     "text": [
      "13\n",
      "15\n"
     ]
    }
   ],
   "source": [
    "print(infixToPostfixEval(\"2 * 2 + 3 * 3\"))\n",
    "print(infixToPostfixEval(\"( 3 + 2 ) * 5 - ( 4 - 3 ) * ( 8 + 2 )\"))"
   ]
  },
  {
   "cell_type": "markdown",
   "metadata": {},
   "source": [
    "### Exercise 4\n",
    "\n",
    "\"Turn your direct infix evaluator from the previous problem into a calculator.\""
   ]
  },
  {
   "cell_type": "code",
   "execution_count": null,
   "metadata": {},
   "outputs": [],
   "source": [
    "print(\"Enter an equation below. Type 'quit' to exit.\")\n",
    "equation = \"\"\n",
    "previous_answer = None\n",
    "\n",
    "while equation.lower() != \"666\":\n",
    "    equation = input(\"> \")\n",
    "    if not re.match(r'^[0123456789(]', equation):  # this is adding to the previous equation.\n",
    "        equation = str(previous_answer) + \" \" + equation\n",
    "\n",
    "    previous_answer = infixToPostfixEval(equation)\n",
    "    print(previous_answer)"
   ]
  },
  {
   "cell_type": "markdown",
   "metadata": {},
   "source": [
    "### Exercise 5\n",
    "\n",
    "\"Implement the Queue ADT, using a list such that the rear of the queue is at the end of the list.\""
   ]
  },
  {
   "cell_type": "code",
   "execution_count": 17,
   "metadata": {},
   "outputs": [
    {
     "name": "stdout",
     "output_type": "stream",
     "text": [
      "True\n",
      "3\n",
      "False\n",
      "2\n"
     ]
    }
   ],
   "source": [
    "class Queue:\n",
    "    def __init__(self):\n",
    "        self.items = []\n",
    "\n",
    "    def isEmpty(self):\n",
    "        return self.items == []\n",
    "\n",
    "    def enqueue(self, item):\n",
    "        self.items.append(item)\n",
    "\n",
    "    def dequeue(self):\n",
    "        return self.items.pop(0)\n",
    "\n",
    "    def size(self):\n",
    "        return len(self.items)\n",
    "\n",
    "\n",
    "q = Queue()\n",
    "print(q.isEmpty())\n",
    "q.enqueue(4)\n",
    "q.enqueue('dog')\n",
    "q.enqueue(True)\n",
    "print(q.size())\n",
    "print(q.isEmpty())\n",
    "q.enqueue(8.4)\n",
    "q.dequeue()\n",
    "q.dequeue()\n",
    "print(q.size())"
   ]
  },
  {
   "cell_type": "markdown",
   "metadata": {},
   "source": [
    "## Chapter 5\n",
    "\n",
    "### Exercise 1"
   ]
  },
  {
   "cell_type": "code",
   "execution_count": 18,
   "metadata": {
    "collapsed": true
   },
   "outputs": [],
   "source": [
    "def sequentialSearch(list, item):\n",
    "    pos = 0\n",
    "    found = False\n",
    "\n",
    "    while pos < len(list) and not found:\n",
    "        if list[pos] == item:\n",
    "            found = True\n",
    "        else:\n",
    "            pos += 1\n",
    "\n",
    "    return found\n",
    "\n",
    "\n",
    "def binarySearch(list, item):\n",
    "    first = 0\n",
    "    last = len(list) - 1\n",
    "    found = False\n",
    "\n",
    "    while first <= last and not found:\n",
    "        midpoint = (first + last) // 2\n",
    "        if list[midpoint] == item:\n",
    "            found = True\n",
    "        else:\n",
    "            if item < list[midpoint]:\n",
    "                last = midpoint - 1\n",
    "            else:\n",
    "                first = midpoint + 1\n",
    "\n",
    "    return found"
   ]
  },
  {
   "cell_type": "code",
   "execution_count": 19,
   "metadata": {},
   "outputs": [
    {
     "name": "stdout",
     "output_type": "stream",
     "text": [
      "False\n",
      "True\n",
      "False\n",
      "True\n",
      "[0.03495569900042028, 0.024239533000582014, 0.022364368000125978]\n",
      "[0.007712327998888213, 0.007820104001439176, 0.007468083000276238]\n"
     ]
    }
   ],
   "source": [
    "testlist = [1, 2, 32, 8, 17, 19, 42, 13, 0]\n",
    "print(sequentialSearch(testlist, 3))\n",
    "print(sequentialSearch(testlist, 13))\n",
    "\n",
    "testlist = [0, 1, 2, 8, 13, 17, 19, 32, 42, 56, 60, 66, 72, 74, 80, 81, 82, 83, 99,]\n",
    "print(binarySearch(testlist, 3))\n",
    "print(binarySearch(testlist, 13))\n",
    "\n",
    "print(timeit.repeat('sequentialSearch(testlist, 83)', 'from __main__ import sequentialSearch, testlist', number=10000))\n",
    "print(timeit.repeat('binarySearch(testlist, 83)', 'from __main__ import binarySearch, testlist', number=10000))"
   ]
  },
  {
   "cell_type": "markdown",
   "metadata": {},
   "source": [
    "### Exercise 2\n",
    "\n",
    "\"Use the binary search functions given in the text (recursive and iterative). Generate a random, ordered list of\n",
    "integers and do a benchmark analysis for each one. What are your results? Can you explain them?\""
   ]
  },
  {
   "cell_type": "code",
   "execution_count": 20,
   "metadata": {
    "collapsed": true
   },
   "outputs": [],
   "source": [
    "def binarySearchIterative(list, item):\n",
    "    first = 0\n",
    "    last = len(list) - 1\n",
    "    found = False\n",
    "\n",
    "    while first <= last and not found:\n",
    "        midpoint = (first + last) // 2\n",
    "        if list[midpoint] == item:\n",
    "            found = True\n",
    "        else:\n",
    "            if item < list[midpoint]:\n",
    "                last = midpoint - 1\n",
    "            else:\n",
    "                first = midpoint + 1\n",
    "\n",
    "    return found\n",
    "\n",
    "\n",
    "def binarySearchRecursive(list, item):\n",
    "    if len(list) == 0:\n",
    "        return False\n",
    "    else:\n",
    "        midpoint = len(list) // 2\n",
    "        if list[midpoint] == item:\n",
    "            return True\n",
    "        else:\n",
    "            if item < list[midpoint]:\n",
    "                return binarySearchRecursive(list[:midpoint], item)\n",
    "            else:\n",
    "                return binarySearchRecursive(list[midpoint + 1:], item)\n",
    "\n",
    "\n",
    "def generateRandomList(length):\n",
    "    returnlist = []\n",
    "    most_recent = 0\n",
    "    for _ in range(length):\n",
    "        randomentry = random.randint(most_recent + 1, most_recent + 10)\n",
    "        most_recent = randomentry\n",
    "        returnlist.append(randomentry)\n",
    "    return returnlist"
   ]
  },
  {
   "cell_type": "code",
   "execution_count": 21,
   "metadata": {},
   "outputs": [
    {
     "name": "stdout",
     "output_type": "stream",
     "text": [
      "[0.35115421999944374, 0.32775948500056984, 0.32633111200084386]\n",
      "[0.7905835850015137, 0.9512102339995181, 0.9342387039996538]\n"
     ]
    }
   ],
   "source": [
    "testlist = generateRandomList(1000)\n",
    "\n",
    "max_value = testlist[len(testlist) - 1]\n",
    "\n",
    "print(timeit.repeat(\"binarySearchIterative(testlist, random.randint(0, max_value))\",\n",
    "                  'from __main__ import binarySearchIterative, random, testlist, max_value',\n",
    "                  number=100000))\n",
    "\n",
    "print(timeit.repeat(\"binarySearchRecursive(testlist, random.randint(0, max_value))\",\n",
    "                        'from __main__ import binarySearchRecursive, random, testlist, max_value',\n",
    "                        number=100000))"
   ]
  },
  {
   "cell_type": "markdown",
   "metadata": {},
   "source": [
    "In general, the recursive method takes more than twice as long to complete than the iterative one. This is because the recursive one must complete a split on the lists during each iteration. The splits in total add up to an O(n) addition per run of the algorithm, turning an O(logn) algorithm to an O(nlogn) algorithm. In comparison, the iterative method takes only O(logn) to run, since it only takes one run through the list to find a value. Exercise 3 will prove this by building a new recusive method that should perform equally well to the iterative method.\n",
    "\n",
    "Iterative times: [0.376329767000243, 0.37340135500016913, 0.3594461990005584]\n",
    "\n",
    "Recursive times: [0.8323799640002107, 0.8352801569999428, 0.8302294299992354]\n",
    "\n",
    "### Exercise 3\n",
    "\n",
    "Implement the binary search using recursion without the slice operator. Recall that you will need to pass the list along with the starting and ending index values for the sublist. Generate a random, ordered list of integers and do a benchmark analysis."
   ]
  },
  {
   "cell_type": "code",
   "execution_count": 22,
   "metadata": {
    "collapsed": true
   },
   "outputs": [],
   "source": [
    "def binarySearchRecursive(list, item, startindex, endindex):\n",
    "    if endindex - startindex == 0:\n",
    "        return False\n",
    "    else:\n",
    "        midpoint = (endindex - startindex) // 2 + startindex\n",
    "        if list[midpoint] == item:\n",
    "            return True\n",
    "        else:\n",
    "            if item < list[midpoint]:\n",
    "                return binarySearchRecursive(list, item, startindex, midpoint)\n",
    "            else:\n",
    "                return binarySearchRecursive(list, item, midpoint + 1, endindex)\n",
    "\n",
    "\n",
    "def generateRandomList(length):\n",
    "    returnlist = []\n",
    "    most_recent = 0\n",
    "    for _ in range(length):\n",
    "        randomentry = random.randint(most_recent + 1, most_recent + 10)\n",
    "        most_recent = randomentry\n",
    "        returnlist.append(randomentry)\n",
    "    return returnlist"
   ]
  },
  {
   "cell_type": "code",
   "execution_count": 23,
   "metadata": {},
   "outputs": [
    {
     "name": "stdout",
     "output_type": "stream",
     "text": [
      "[0.43521571199926257, 0.4209791569992376, 0.4263306350003404]\n"
     ]
    }
   ],
   "source": [
    "testlist = generateRandomList(1000)\n",
    "\n",
    "max_value = testlist[len(testlist) - 1]\n",
    "\n",
    "print(timeit.repeat(\"binarySearchRecursive(testlist, random.randint(0, max_value), 0, len(testlist) - 1)\",\n",
    "                    'from __main__ import binarySearchRecursive, random, testlist, max_value',\n",
    "                    number=100000))"
   ]
  },
  {
   "cell_type": "markdown",
   "metadata": {},
   "source": [
    "Implement the binary search using recursion without the slice operator. Recall that you will need to pass the list along with the starting and ending index values for the sublist. Generate a random, ordered list of integers and do a benchmark analysis.\n",
    "\n",
    "### Exercise 4 and 5\n",
    "\n",
    "\"Implement the len method (__len__) for the hash table Map ADT implementation.\"\n",
    "\"Implement the in method (__contains__) for the hash table Map ADT implementation.\""
   ]
  },
  {
   "cell_type": "code",
   "execution_count": 24,
   "metadata": {
    "collapsed": true
   },
   "outputs": [],
   "source": [
    "class HashTable:\n",
    "    def __init__(self):\n",
    "        self.size = 11\n",
    "        self.slots = [None] * self.size\n",
    "        self.data = [None] * self.size\n",
    "\n",
    "    def put(self, key, data):\n",
    "        hashvalue = self.hashfunction(key, len(self.slots))\n",
    "\n",
    "        if self.slots[hashvalue] is None:\n",
    "            self.slots[hashvalue] = key\n",
    "            self.data[hashvalue] = data\n",
    "        else:\n",
    "            if self.slots[hashvalue] == key:\n",
    "                self.data[hashvalue] = data  # replace\n",
    "            else:\n",
    "                nextslot = self.rehash(hashvalue, len(self.slots))\n",
    "                while self.slots[nextslot] is not None and \\\n",
    "                    self.slots[nextslot] != key:\n",
    "                    nextslot = self.rehash(nextslot, len(self.slots))\n",
    "\n",
    "                if self.slots[nextslot] is None:\n",
    "                    self.slots[nextslot] = key\n",
    "                    self.data[nextslot] = data\n",
    "                else:\n",
    "                    self.data[nextslot] = data  # replace\n",
    "\n",
    "    def hashfunction(self, key, size):\n",
    "        return key % size\n",
    "\n",
    "    def rehash(self, oldhash, size):\n",
    "        return (oldhash + 1) % size\n",
    "\n",
    "    # Exercise 4\n",
    "    def __len__(self):\n",
    "        count = 0\n",
    "        for i in self.slots:\n",
    "            if i is not None:\n",
    "                count += 1\n",
    "        return count\n",
    "\n",
    "    # Exercise 5\n",
    "    def __contains__(self, item):\n",
    "        hashvalue = self.hashfunction(item, len(self.slots))\n",
    "\n",
    "        if self.slots[hashvalue] is None:\n",
    "            return False\n",
    "        else:\n",
    "            if self.slots[hashvalue] == item:\n",
    "                return True\n",
    "            else:\n",
    "                nextslot = self.rehash(hashvalue, len(self.slots))\n",
    "                while self.slots[nextslot] is not None and \\\n",
    "                    self.slots[nextslot] != item:\n",
    "                    nextslot = self.rehash(nextslot, len(self.slots))\n",
    "\n",
    "                return self.slots[nextslot] == item"
   ]
  },
  {
   "cell_type": "code",
   "execution_count": 25,
   "metadata": {},
   "outputs": [
    {
     "name": "stdout",
     "output_type": "stream",
     "text": [
      "4\n",
      "True\n",
      "False\n"
     ]
    }
   ],
   "source": [
    "h = HashTable()\n",
    "\n",
    "h.put(1, 'cat')\n",
    "h.put(16, 'fish')\n",
    "h.put(12, 'elephant')\n",
    "h.put(4, 'rhino')\n",
    "\n",
    "print(len(h))\n",
    "print(1 in h)\n",
    "print(3 in h)\n"
   ]
  },
  {
   "cell_type": "code",
   "execution_count": null,
   "metadata": {
    "collapsed": true
   },
   "outputs": [],
   "source": []
  }
 ],
 "metadata": {
  "kernelspec": {
   "display_name": "Python 3",
   "language": "python",
   "name": "python3"
  },
  "language_info": {
   "codemirror_mode": {
    "name": "ipython",
    "version": 3
   },
   "file_extension": ".py",
   "mimetype": "text/x-python",
   "name": "python",
   "nbconvert_exporter": "python",
   "pygments_lexer": "ipython3",
   "version": "3.6.3"
  }
 },
 "nbformat": 4,
 "nbformat_minor": 2
}
