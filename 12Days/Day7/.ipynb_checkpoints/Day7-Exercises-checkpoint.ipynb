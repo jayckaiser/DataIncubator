{
 "cells": [
  {
   "cell_type": "markdown",
   "metadata": {},
   "source": [
    "# Day 7"
   ]
  },
  {
   "cell_type": "code",
   "execution_count": 1,
   "metadata": {},
   "outputs": [],
   "source": [
    "import numpy as np"
   ]
  },
  {
   "cell_type": "code",
   "execution_count": 2,
   "metadata": {},
   "outputs": [
    {
     "name": "stdout",
     "output_type": "stream",
     "text": [
      "1.13.3\n",
      "lapack_opt_info:\n",
      "    libraries = ['mkl_rt', 'pthread']\n",
      "    library_dirs = ['/home/jayckaiser/anaconda3/lib']\n",
      "    define_macros = [('SCIPY_MKL_H', None), ('HAVE_CBLAS', None)]\n",
      "    include_dirs = ['/home/jayckaiser/anaconda3/include']\n",
      "blas_opt_info:\n",
      "    libraries = ['mkl_rt', 'pthread']\n",
      "    library_dirs = ['/home/jayckaiser/anaconda3/lib']\n",
      "    define_macros = [('SCIPY_MKL_H', None), ('HAVE_CBLAS', None)]\n",
      "    include_dirs = ['/home/jayckaiser/anaconda3/include']\n",
      "lapack_mkl_info:\n",
      "    libraries = ['mkl_rt', 'pthread']\n",
      "    library_dirs = ['/home/jayckaiser/anaconda3/lib']\n",
      "    define_macros = [('SCIPY_MKL_H', None), ('HAVE_CBLAS', None)]\n",
      "    include_dirs = ['/home/jayckaiser/anaconda3/include']\n",
      "blas_mkl_info:\n",
      "    libraries = ['mkl_rt', 'pthread']\n",
      "    library_dirs = ['/home/jayckaiser/anaconda3/lib']\n",
      "    define_macros = [('SCIPY_MKL_H', None), ('HAVE_CBLAS', None)]\n",
      "    include_dirs = ['/home/jayckaiser/anaconda3/include']\n"
     ]
    }
   ],
   "source": [
    "print(np.__version__)\n",
    "np.show_config()"
   ]
  },
  {
   "cell_type": "code",
   "execution_count": 4,
   "metadata": {},
   "outputs": [
    {
     "data": {
      "text/plain": [
       "array([ 0.,  0.,  0.,  0.,  0.,  0.,  0.,  0.,  0.,  0.])"
      ]
     },
     "execution_count": 4,
     "metadata": {},
     "output_type": "execute_result"
    }
   ],
   "source": [
    "a = np.zeros(10)\n",
    "a"
   ]
  },
  {
   "cell_type": "code",
   "execution_count": 6,
   "metadata": {},
   "outputs": [
    {
     "data": {
      "text/plain": [
       "8"
      ]
     },
     "execution_count": 6,
     "metadata": {},
     "output_type": "execute_result"
    }
   ],
   "source": [
    "a.itemsize"
   ]
  },
  {
   "cell_type": "code",
   "execution_count": 11,
   "metadata": {},
   "outputs": [],
   "source": [
    "#python -c \"import numpy; numpy.info(numpy.add)\""
   ]
  },
  {
   "cell_type": "code",
   "execution_count": 13,
   "metadata": {},
   "outputs": [
    {
     "data": {
      "text/plain": [
       "array([ 0.,  0.,  0.,  0.,  1.,  0.,  0.,  0.,  0.,  0.])"
      ]
     },
     "execution_count": 13,
     "metadata": {},
     "output_type": "execute_result"
    }
   ],
   "source": [
    "b = np.zeros(10)\n",
    "b[4] = 1\n",
    "b"
   ]
  },
  {
   "cell_type": "code",
   "execution_count": 14,
   "metadata": {},
   "outputs": [
    {
     "data": {
      "text/plain": [
       "array([10, 11, 12, 13, 14, 15, 16, 17, 18, 19, 20, 21, 22, 23, 24, 25, 26,\n",
       "       27, 28, 29, 30, 31, 32, 33, 34, 35, 36, 37, 38, 39, 40, 41, 42, 43,\n",
       "       44, 45, 46, 47, 48])"
      ]
     },
     "execution_count": 14,
     "metadata": {},
     "output_type": "execute_result"
    }
   ],
   "source": [
    "c = np.arange(10,49)\n",
    "c"
   ]
  },
  {
   "cell_type": "code",
   "execution_count": 15,
   "metadata": {},
   "outputs": [
    {
     "data": {
      "text/plain": [
       "array([48, 47, 46, 45, 44, 43, 42, 41, 40, 39, 38, 37, 36, 35, 34, 33, 32,\n",
       "       31, 30, 29, 28, 27, 26, 25, 24, 23, 22, 21, 20, 19, 18, 17, 16, 15,\n",
       "       14, 13, 12, 11, 10])"
      ]
     },
     "execution_count": 15,
     "metadata": {},
     "output_type": "execute_result"
    }
   ],
   "source": [
    "c[::-1]"
   ]
  },
  {
   "cell_type": "code",
   "execution_count": 19,
   "metadata": {},
   "outputs": [
    {
     "data": {
      "text/plain": [
       "array([[0, 1, 2],\n",
       "       [3, 4, 5],\n",
       "       [6, 7, 8]])"
      ]
     },
     "execution_count": 19,
     "metadata": {},
     "output_type": "execute_result"
    }
   ],
   "source": [
    "np.arange(9).reshape((3,3))"
   ]
  },
  {
   "cell_type": "code",
   "execution_count": 21,
   "metadata": {},
   "outputs": [
    {
     "data": {
      "text/plain": [
       "array([ True,  True, False, False,  True, False], dtype=bool)"
      ]
     },
     "execution_count": 21,
     "metadata": {},
     "output_type": "execute_result"
    }
   ],
   "source": [
    "d = np.array([1,2,0,0,4,0])\n",
    "d != 0"
   ]
  },
  {
   "cell_type": "code",
   "execution_count": 25,
   "metadata": {},
   "outputs": [
    {
     "data": {
      "text/plain": [
       "array([[ 1.,  0.,  0.],\n",
       "       [ 0.,  1.,  0.],\n",
       "       [ 0.,  0.,  1.]])"
      ]
     },
     "execution_count": 25,
     "metadata": {},
     "output_type": "execute_result"
    }
   ],
   "source": [
    "np.identity(3)"
   ]
  },
  {
   "cell_type": "code",
   "execution_count": 29,
   "metadata": {},
   "outputs": [
    {
     "data": {
      "text/plain": [
       "array([[ 0.24341382,  0.88612083,  0.27082587],\n",
       "       [ 0.90475135,  0.192009  ,  0.89394043],\n",
       "       [ 0.85783976,  0.01170756,  0.36996067]])"
      ]
     },
     "execution_count": 29,
     "metadata": {},
     "output_type": "execute_result"
    }
   ],
   "source": [
    "np.random.random([3,3])"
   ]
  },
  {
   "cell_type": "code",
   "execution_count": 28,
   "metadata": {},
   "outputs": [
    {
     "name": "stdout",
     "output_type": "stream",
     "text": [
      "(0.01001562137443901, 0.96524458285519255)\n"
     ]
    }
   ],
   "source": [
    "e = np.random.random([10,10])\n",
    "print(e.min(), e.max())"
   ]
  },
  {
   "cell_type": "code",
   "execution_count": 30,
   "metadata": {},
   "outputs": [
    {
     "data": {
      "text/plain": [
       "0.47711652463279702"
      ]
     },
     "execution_count": 30,
     "metadata": {},
     "output_type": "execute_result"
    }
   ],
   "source": [
    "np.random.random([30]).mean()"
   ]
  },
  {
   "cell_type": "code",
   "execution_count": 32,
   "metadata": {},
   "outputs": [
    {
     "data": {
      "text/plain": [
       "array([[ 1.,  1.,  1.,  1.,  1.,  1.,  1.,  1.,  1.,  1.],\n",
       "       [ 1.,  0.,  0.,  0.,  0.,  0.,  0.,  0.,  0.,  1.],\n",
       "       [ 1.,  0.,  0.,  0.,  0.,  0.,  0.,  0.,  0.,  1.],\n",
       "       [ 1.,  0.,  0.,  0.,  0.,  0.,  0.,  0.,  0.,  1.],\n",
       "       [ 1.,  0.,  0.,  0.,  0.,  0.,  0.,  0.,  0.,  1.],\n",
       "       [ 1.,  0.,  0.,  0.,  0.,  0.,  0.,  0.,  0.,  1.],\n",
       "       [ 1.,  0.,  0.,  0.,  0.,  0.,  0.,  0.,  0.,  1.],\n",
       "       [ 1.,  0.,  0.,  0.,  0.,  0.,  0.,  0.,  0.,  1.],\n",
       "       [ 1.,  0.,  0.,  0.,  0.,  0.,  0.,  0.,  0.,  1.],\n",
       "       [ 1.,  1.,  1.,  1.,  1.,  1.,  1.,  1.,  1.,  1.]])"
      ]
     },
     "execution_count": 32,
     "metadata": {},
     "output_type": "execute_result"
    }
   ],
   "source": [
    "f = np.zeros([10, 10])\n",
    "f[0] = 1\n",
    "f[-1] = 1\n",
    "f[:,0] = 1\n",
    "f[:,-1] = 1\n",
    "f"
   ]
  },
  {
   "cell_type": "code",
   "execution_count": 33,
   "metadata": {},
   "outputs": [
    {
     "data": {
      "text/plain": [
       "array([[ 1.,  1.,  1.],\n",
       "       [ 1.,  0.,  1.],\n",
       "       [ 1.,  0.,  1.],\n",
       "       [ 1.,  0.,  1.],\n",
       "       [ 1.,  1.,  1.]])"
      ]
     },
     "execution_count": 33,
     "metadata": {},
     "output_type": "execute_result"
    }
   ],
   "source": [
    "def add_border(array):\n",
    "    array[0] = 1\n",
    "    array[-1] = 1\n",
    "    array[:,0] = 1\n",
    "    array[:,-1] = 1\n",
    "    return array\n",
    "\n",
    "add_border(np.zeros([5,3]))"
   ]
  },
  {
   "cell_type": "code",
   "execution_count": 37,
   "metadata": {},
   "outputs": [
    {
     "name": "stdout",
     "output_type": "stream",
     "text": [
      "nan\n",
      "False\n",
      "False\n",
      "nan\n",
      "False\n"
     ]
    }
   ],
   "source": [
    "print 0 * np.nan       # nan\n",
    "print np.nan == np.nan  # True\n",
    "print np.inf > np.nan  # False\n",
    "print np.nan - np.nan  # nan\n",
    "print 0.3 == 3 * 0.1   # True"
   ]
  },
  {
   "cell_type": "code",
   "execution_count": 40,
   "metadata": {},
   "outputs": [
    {
     "data": {
      "text/plain": [
       "array([[0, 0, 0, 0, 0],\n",
       "       [1, 0, 0, 0, 0],\n",
       "       [0, 2, 0, 0, 0],\n",
       "       [0, 0, 3, 0, 0],\n",
       "       [0, 0, 0, 4, 0]])"
      ]
     },
     "execution_count": 40,
     "metadata": {},
     "output_type": "execute_result"
    }
   ],
   "source": [
    "np.diag(1 + np.arange(4), k=-1)"
   ]
  },
  {
   "cell_type": "code",
   "execution_count": 41,
   "metadata": {},
   "outputs": [
    {
     "data": {
      "text/plain": [
       "array([[ 0.,  1.,  0.,  1.,  0.,  1.,  0.,  1.],\n",
       "       [ 1.,  0.,  1.,  0.,  1.,  0.,  1.,  0.],\n",
       "       [ 0.,  1.,  0.,  1.,  0.,  1.,  0.,  1.],\n",
       "       [ 1.,  0.,  1.,  0.,  1.,  0.,  1.,  0.],\n",
       "       [ 0.,  1.,  0.,  1.,  0.,  1.,  0.,  1.],\n",
       "       [ 1.,  0.,  1.,  0.,  1.,  0.,  1.,  0.],\n",
       "       [ 0.,  1.,  0.,  1.,  0.,  1.,  0.,  1.],\n",
       "       [ 1.,  0.,  1.,  0.,  1.,  0.,  1.,  0.]])"
      ]
     },
     "execution_count": 41,
     "metadata": {},
     "output_type": "execute_result"
    }
   ],
   "source": [
    "g = np.zeros([8,8])\n",
    "g[1 :: 2, :: 2] = 1\n",
    "g[::2, 1 :: 2 ] = 1\n",
    "g"
   ]
  },
  {
   "cell_type": "code",
   "execution_count": 46,
   "metadata": {},
   "outputs": [
    {
     "data": {
      "text/plain": [
       "(1, 5, 4)"
      ]
     },
     "execution_count": 46,
     "metadata": {},
     "output_type": "execute_result"
    }
   ],
   "source": [
    "np.unravel_index(100, (6,7,8))"
   ]
  },
  {
   "cell_type": "code",
   "execution_count": 47,
   "metadata": {},
   "outputs": [
    {
     "data": {
      "text/plain": [
       "array([[0, 1, 0, 1, 0, 1, 0, 1],\n",
       "       [1, 0, 1, 0, 1, 0, 1, 0],\n",
       "       [0, 1, 0, 1, 0, 1, 0, 1],\n",
       "       [1, 0, 1, 0, 1, 0, 1, 0],\n",
       "       [0, 1, 0, 1, 0, 1, 0, 1],\n",
       "       [1, 0, 1, 0, 1, 0, 1, 0],\n",
       "       [0, 1, 0, 1, 0, 1, 0, 1],\n",
       "       [1, 0, 1, 0, 1, 0, 1, 0]])"
      ]
     },
     "execution_count": 47,
     "metadata": {},
     "output_type": "execute_result"
    }
   ],
   "source": [
    "np.tile(np.array([ [0,1], [1,0],]), (4,4))"
   ]
  },
  {
   "cell_type": "code",
   "execution_count": 48,
   "metadata": {},
   "outputs": [
    {
     "data": {
      "text/plain": [
       "array([[ 0.67693466,  0.19007142,  0.33409101,  0.67962893,  0.18460839],\n",
       "       [ 0.41272844,  0.92312581,  0.96058057,  0.64494231,  0.98640289],\n",
       "       [ 1.        ,  0.75127397,  0.49702783,  0.50939158,  0.44333563],\n",
       "       [ 0.15737811,  0.25226909,  0.54161877,  0.98942836,  0.88890513],\n",
       "       [ 0.88481553,  0.29285505,  0.29074846,  0.        ,  0.74900181]])"
      ]
     },
     "execution_count": 48,
     "metadata": {},
     "output_type": "execute_result"
    }
   ],
   "source": [
    "h = np.random.random((5,5))\n",
    "hmax, hmin = h.max(), h.min()\n",
    "h = (h - hmin) / (hmax - hmin)\n",
    "h"
   ]
  },
  {
   "cell_type": "code",
   "execution_count": 49,
   "metadata": {},
   "outputs": [],
   "source": [
    "color = np.dtype([('r', np.ubyte, 1),\n",
    "                 ('g', np.ubyte, 1),\n",
    "                 ('b', np.ubyte, 1),\n",
    "                 ('a', np.ubyte, 1)])"
   ]
  },
  {
   "cell_type": "code",
   "execution_count": 51,
   "metadata": {},
   "outputs": [
    {
     "data": {
      "text/plain": [
       "array([[ 0.36916901,  0.50980219],\n",
       "       [ 0.78889757,  0.96543302],\n",
       "       [ 0.4868922 ,  0.42062647],\n",
       "       [ 0.8485912 ,  0.99434466],\n",
       "       [ 0.11871415,  0.12637458]])"
      ]
     },
     "execution_count": 51,
     "metadata": {},
     "output_type": "execute_result"
    }
   ],
   "source": [
    "np.random.random([5,3]).dot(np.random.random([3,2]))"
   ]
  },
  {
   "cell_type": "code",
   "execution_count": 52,
   "metadata": {},
   "outputs": [
    {
     "data": {
      "text/plain": [
       "array([ 0,  1,  2,  3, -4, -5, -6, -7,  8,  9])"
      ]
     },
     "execution_count": 52,
     "metadata": {},
     "output_type": "execute_result"
    }
   ],
   "source": [
    "i = np.arange(10)\n",
    "i[ (i > 3) & (i < 8)] *= -1\n",
    "i"
   ]
  },
  {
   "cell_type": "code",
   "execution_count": 53,
   "metadata": {},
   "outputs": [
    {
     "name": "stdout",
     "output_type": "stream",
     "text": [
      "9\n",
      "10\n"
     ]
    }
   ],
   "source": [
    "print(sum(range(5), -1))  #\n",
    "from numpy import *\n",
    "print(sum(range(5), -1))  # "
   ]
  },
  {
   "cell_type": "code",
   "execution_count": 56,
   "metadata": {},
   "outputs": [
    {
     "name": "stdout",
     "output_type": "stream",
     "text": [
      "[        1         1         4        27       256      3125     46656\n",
      "    823543  16777216 387420489]\n",
      "[  0   1   2   4   8  16  32  64 128 256]\n",
      "[ 0.+0.j  0.+1.j  0.+2.j  0.+3.j  0.+4.j  0.+5.j  0.+6.j  0.+7.j  0.+8.j\n",
      "  0.+9.j]\n",
      "[0 1 2 3 4 5 6 7 8 9]\n"
     ]
    }
   ],
   "source": [
    "j = np.arange(10)\n",
    "print(j ** j)\n",
    "print(2 << j >> 2)\n",
    "print(1j * j)\n",
    "print(j/1/1)\n",
    "#print(j<j>j)"
   ]
  },
  {
   "cell_type": "code",
   "execution_count": 58,
   "metadata": {},
   "outputs": [
    {
     "name": "stdout",
     "output_type": "stream",
     "text": [
      "0\n",
      "0\n",
      "[ -9.22337204e+18]\n"
     ]
    },
    {
     "name": "stderr",
     "output_type": "stream",
     "text": [
      "/home/jayckaiser/anaconda3/lib/python2.7/site-packages/ipykernel_launcher.py:1: RuntimeWarning: divide by zero encountered in divide\n",
      "  \"\"\"Entry point for launching an IPython kernel.\n",
      "/home/jayckaiser/anaconda3/lib/python2.7/site-packages/ipykernel_launcher.py:2: RuntimeWarning: divide by zero encountered in floor_divide\n",
      "  \n"
     ]
    }
   ],
   "source": [
    "print(np.array(0) / np.array(0))\n",
    "print(np.array(0) // np.array(0))\n",
    "print(np.array([np.nan]).astype(int).astype(float))"
   ]
  },
  {
   "cell_type": "code",
   "execution_count": 59,
   "metadata": {},
   "outputs": [
    {
     "data": {
      "text/plain": [
       "array([ 8., -7., -5.,  1.,  4.,  7., -8., -9.,  5., -2.])"
      ]
     },
     "execution_count": 59,
     "metadata": {},
     "output_type": "execute_result"
    }
   ],
   "source": [
    "k = np.random.uniform(-10, 10, 10)\n",
    "np.trunc(k + np.copysign(0.5, k))"
   ]
  },
  {
   "cell_type": "code",
   "execution_count": 61,
   "metadata": {},
   "outputs": [
    {
     "data": {
      "text/plain": [
       "array([5, 6, 7, 8, 9])"
      ]
     },
     "execution_count": 61,
     "metadata": {},
     "output_type": "execute_result"
    }
   ],
   "source": [
    "l = np.arange(10)\n",
    "m = np.arange(5, 15)\n",
    "\n",
    "np.intersect1d(l,m)"
   ]
  },
  {
   "cell_type": "code",
   "execution_count": 62,
   "metadata": {},
   "outputs": [
    {
     "data": {
      "text/plain": [
       "array([[ 0.,  1.,  2.,  3.,  4.],\n",
       "       [ 0.,  1.,  2.,  3.,  4.],\n",
       "       [ 0.,  1.,  2.,  3.,  4.],\n",
       "       [ 0.,  1.,  2.,  3.,  4.],\n",
       "       [ 0.,  1.,  2.,  3.,  4.]])"
      ]
     },
     "execution_count": 62,
     "metadata": {},
     "output_type": "execute_result"
    }
   ],
   "source": [
    "n = np.zeros([5,5])\n",
    "n += np.arange(5)\n",
    "n"
   ]
  },
  {
   "cell_type": "code",
   "execution_count": 64,
   "metadata": {},
   "outputs": [
    {
     "data": {
      "text/plain": [
       "array([ 0.,  1.,  2.,  3.,  4.,  5.,  6.,  7.,  8.,  9.])"
      ]
     },
     "execution_count": 64,
     "metadata": {},
     "output_type": "execute_result"
    }
   ],
   "source": [
    "def generate():\n",
    "    for x in xrange(10):\n",
    "        yield x\n",
    "\n",
    "np.fromiter(generate(), dtype=float, count=-1)"
   ]
  },
  {
   "cell_type": "code",
   "execution_count": 65,
   "metadata": {},
   "outputs": [
    {
     "data": {
      "text/plain": [
       "array([ 0.09090909,  0.18181818,  0.27272727,  0.36363636,  0.45454545,\n",
       "        0.54545455,  0.63636364,  0.72727273,  0.81818182,  0.90909091])"
      ]
     },
     "execution_count": 65,
     "metadata": {},
     "output_type": "execute_result"
    }
   ],
   "source": [
    "np.linspace(0, 1, 12)[1:-1]"
   ]
  },
  {
   "cell_type": "code",
   "execution_count": 68,
   "metadata": {},
   "outputs": [
    {
     "data": {
      "text/plain": [
       "array([ 0.26567685,  0.44587471,  0.57264868,  0.58234756,  0.67398124,\n",
       "        0.73549325,  0.75253222,  0.89608326,  0.91646392,  0.97888021])"
      ]
     },
     "execution_count": 68,
     "metadata": {},
     "output_type": "execute_result"
    }
   ],
   "source": [
    "o = np.random.random(10)\n",
    "o.sort()\n",
    "o"
   ]
  },
  {
   "cell_type": "code",
   "execution_count": 69,
   "metadata": {},
   "outputs": [
    {
     "data": {
      "text/plain": [
       "45"
      ]
     },
     "execution_count": 69,
     "metadata": {},
     "output_type": "execute_result"
    }
   ],
   "source": [
    "np.add.reduce(np.arange(10))"
   ]
  },
  {
   "cell_type": "code",
   "execution_count": 71,
   "metadata": {},
   "outputs": [
    {
     "data": {
      "text/plain": [
       "True"
      ]
     },
     "execution_count": 71,
     "metadata": {},
     "output_type": "execute_result"
    }
   ],
   "source": [
    "p1 = np.random.random([0,10])\n",
    "p2 = np.random.random([0,10])\n",
    "np.allclose(p1, p2)"
   ]
  },
  {
   "cell_type": "code",
   "execution_count": 75,
   "metadata": {},
   "outputs": [],
   "source": [
    "q = np.zeros(10)\n",
    "q.flags.writeable = False"
   ]
  },
  {
   "cell_type": "code",
   "execution_count": 76,
   "metadata": {},
   "outputs": [],
   "source": [
    "# 44"
   ]
  },
  {
   "cell_type": "code",
   "execution_count": 81,
   "metadata": {},
   "outputs": [
    {
     "data": {
      "text/plain": [
       "array([ 0.59215753,  0.95420058,  0.        ,  0.92193157,  0.57109483,\n",
       "        0.1314793 ,  0.00129603,  0.22633024,  0.7633583 ,  0.52087118])"
      ]
     },
     "execution_count": 81,
     "metadata": {},
     "output_type": "execute_result"
    }
   ],
   "source": [
    "#45\n",
    "r = np.random.random(10)\n",
    "r[r.argmax()] = 0\n",
    "r"
   ]
  },
  {
   "cell_type": "code",
   "execution_count": 83,
   "metadata": {},
   "outputs": [
    {
     "data": {
      "text/plain": [
       "array([[( 0.        ,  0.        ), ( 0.11111111,  0.        ),\n",
       "        ( 0.22222222,  0.        ), ( 0.33333333,  0.        ),\n",
       "        ( 0.44444444,  0.        ), ( 0.55555556,  0.        ),\n",
       "        ( 0.66666667,  0.        ), ( 0.77777778,  0.        ),\n",
       "        ( 0.88888889,  0.        ), ( 1.        ,  0.        )],\n",
       "       [( 0.        ,  0.11111111), ( 0.11111111,  0.11111111),\n",
       "        ( 0.22222222,  0.11111111), ( 0.33333333,  0.11111111),\n",
       "        ( 0.44444444,  0.11111111), ( 0.55555556,  0.11111111),\n",
       "        ( 0.66666667,  0.11111111), ( 0.77777778,  0.11111111),\n",
       "        ( 0.88888889,  0.11111111), ( 1.        ,  0.11111111)],\n",
       "       [( 0.        ,  0.22222222), ( 0.11111111,  0.22222222),\n",
       "        ( 0.22222222,  0.22222222), ( 0.33333333,  0.22222222),\n",
       "        ( 0.44444444,  0.22222222), ( 0.55555556,  0.22222222),\n",
       "        ( 0.66666667,  0.22222222), ( 0.77777778,  0.22222222),\n",
       "        ( 0.88888889,  0.22222222), ( 1.        ,  0.22222222)],\n",
       "       [( 0.        ,  0.33333333), ( 0.11111111,  0.33333333),\n",
       "        ( 0.22222222,  0.33333333), ( 0.33333333,  0.33333333),\n",
       "        ( 0.44444444,  0.33333333), ( 0.55555556,  0.33333333),\n",
       "        ( 0.66666667,  0.33333333), ( 0.77777778,  0.33333333),\n",
       "        ( 0.88888889,  0.33333333), ( 1.        ,  0.33333333)],\n",
       "       [( 0.        ,  0.44444444), ( 0.11111111,  0.44444444),\n",
       "        ( 0.22222222,  0.44444444), ( 0.33333333,  0.44444444),\n",
       "        ( 0.44444444,  0.44444444), ( 0.55555556,  0.44444444),\n",
       "        ( 0.66666667,  0.44444444), ( 0.77777778,  0.44444444),\n",
       "        ( 0.88888889,  0.44444444), ( 1.        ,  0.44444444)],\n",
       "       [( 0.        ,  0.55555556), ( 0.11111111,  0.55555556),\n",
       "        ( 0.22222222,  0.55555556), ( 0.33333333,  0.55555556),\n",
       "        ( 0.44444444,  0.55555556), ( 0.55555556,  0.55555556),\n",
       "        ( 0.66666667,  0.55555556), ( 0.77777778,  0.55555556),\n",
       "        ( 0.88888889,  0.55555556), ( 1.        ,  0.55555556)],\n",
       "       [( 0.        ,  0.66666667), ( 0.11111111,  0.66666667),\n",
       "        ( 0.22222222,  0.66666667), ( 0.33333333,  0.66666667),\n",
       "        ( 0.44444444,  0.66666667), ( 0.55555556,  0.66666667),\n",
       "        ( 0.66666667,  0.66666667), ( 0.77777778,  0.66666667),\n",
       "        ( 0.88888889,  0.66666667), ( 1.        ,  0.66666667)],\n",
       "       [( 0.        ,  0.77777778), ( 0.11111111,  0.77777778),\n",
       "        ( 0.22222222,  0.77777778), ( 0.33333333,  0.77777778),\n",
       "        ( 0.44444444,  0.77777778), ( 0.55555556,  0.77777778),\n",
       "        ( 0.66666667,  0.77777778), ( 0.77777778,  0.77777778),\n",
       "        ( 0.88888889,  0.77777778), ( 1.        ,  0.77777778)],\n",
       "       [( 0.        ,  0.88888889), ( 0.11111111,  0.88888889),\n",
       "        ( 0.22222222,  0.88888889), ( 0.33333333,  0.88888889),\n",
       "        ( 0.44444444,  0.88888889), ( 0.55555556,  0.88888889),\n",
       "        ( 0.66666667,  0.88888889), ( 0.77777778,  0.88888889),\n",
       "        ( 0.88888889,  0.88888889), ( 1.        ,  0.88888889)],\n",
       "       [( 0.        ,  1.        ), ( 0.11111111,  1.        ),\n",
       "        ( 0.22222222,  1.        ), ( 0.33333333,  1.        ),\n",
       "        ( 0.44444444,  1.        ), ( 0.55555556,  1.        ),\n",
       "        ( 0.66666667,  1.        ), ( 0.77777778,  1.        ),\n",
       "        ( 0.88888889,  1.        ), ( 1.        ,  1.        )]],\n",
       "      dtype=[('a', '<f8'), ('b', '<f8')])"
      ]
     },
     "execution_count": 83,
     "metadata": {},
     "output_type": "execute_result"
    }
   ],
   "source": [
    "#46\n",
    "s = np.zeros( (10,10), [('a', float), ('b', float)])\n",
    "s['a'], s['b'] = np.meshgrid(np.linspace(0,1,10),\n",
    "                            np.linspace(0,1,10))\n",
    "s"
   ]
  },
  {
   "cell_type": "code",
   "execution_count": 86,
   "metadata": {},
   "outputs": [
    {
     "data": {
      "text/plain": [
       "3638.1636371179666"
      ]
     },
     "execution_count": 86,
     "metadata": {},
     "output_type": "execute_result"
    }
   ],
   "source": [
    "###39\n",
    "t = np.arange(8)\n",
    "u = 1.0 / np.subtract.outer(t, t + 0.5)\n",
    "np.linalg.det(u)"
   ]
  },
  {
   "cell_type": "code",
   "execution_count": 87,
   "metadata": {},
   "outputs": [
    {
     "name": "stdout",
     "output_type": "stream",
     "text": [
      "-128\n",
      "127\n",
      "-2147483648\n",
      "2147483647\n",
      "-9223372036854775808\n",
      "9223372036854775807\n",
      "-3.40282e+38\n",
      "3.40282e+38\n",
      "1.19209e-07\n",
      "-1.79769313486e+308\n",
      "1.79769313486e+308\n",
      "2.22044604925e-16\n"
     ]
    }
   ],
   "source": [
    "###40\n",
    "for dtype in [np.int8, np.int32, np.int64]:\n",
    "   print(np.iinfo(dtype).min)\n",
    "   print(np.iinfo(dtype).max)\n",
    "for dtype in [np.float32, np.float64]:\n",
    "   print(np.finfo(dtype).min)\n",
    "   print(np.finfo(dtype).max)\n",
    "   print(np.finfo(dtype).eps)"
   ]
  },
  {
   "cell_type": "code",
   "execution_count": 91,
   "metadata": {},
   "outputs": [
    {
     "name": "stdout",
     "output_type": "stream",
     "text": [
      "[[ 0.  0.  0.  0.  0.]\n",
      " [ 0.  0.  0.  0.  0.]\n",
      " [ 0.  0.  0.  0.  0.]\n",
      " [ 0.  0.  0.  0.  0.]\n",
      " [ 0.  0.  0.  0.  0.]]\n"
     ]
    }
   ],
   "source": [
    "###41\n",
    "np.set_printoptions(threshold=np.nan)\n",
    "print(np.zeros([5,5]))"
   ]
  },
  {
   "cell_type": "code",
   "execution_count": 92,
   "metadata": {},
   "outputs": [
    {
     "data": {
      "text/plain": [
       "94"
      ]
     },
     "execution_count": 92,
     "metadata": {},
     "output_type": "execute_result"
    }
   ],
   "source": [
    "###42\n",
    "v = np.arange(100)\n",
    "w = np.random.uniform(0, 100)\n",
    "index = (np.abs(v-w)).argmin()\n",
    "v[index]"
   ]
  },
  {
   "cell_type": "code",
   "execution_count": 93,
   "metadata": {},
   "outputs": [],
   "source": [
    "###43"
   ]
  },
  {
   "cell_type": "code",
   "execution_count": 94,
   "metadata": {},
   "outputs": [
    {
     "data": {
      "text/plain": [
       "array([[ 0.        ,  0.36509834,  0.49660903,  0.12569717,  0.52394539,\n",
       "         0.80538272,  0.18266908,  0.5553846 ,  0.68081359,  0.10216827],\n",
       "       [ 0.36509834,  0.        ,  0.47079542,  0.4907773 ,  0.16326927,\n",
       "         0.46103836,  0.27138255,  0.35763796,  0.31606935,  0.45512154],\n",
       "       [ 0.49660903,  0.47079542,  0.        ,  0.56490304,  0.50447038,\n",
       "         0.8586699 ,  0.58460565,  0.2333102 ,  0.62998402,  0.58550569],\n",
       "       [ 0.12569717,  0.4907773 ,  0.56490304,  0.        ,  0.64941786,\n",
       "         0.92705545,  0.2837887 ,  0.65880705,  0.80650516,  0.06440164],\n",
       "       [ 0.52394539,  0.16326927,  0.50447038,  0.64941786,  0.        ,\n",
       "         0.35679011,  0.43211784,  0.32012506,  0.16043298,  0.61682069],\n",
       "       [ 0.80538272,  0.46103836,  0.8586699 ,  0.92705545,  0.35679011,\n",
       "         0.        ,  0.65618766,  0.65464129,  0.24312143,  0.87908269],\n",
       "       [ 0.18266908,  0.27138255,  0.58460565,  0.2837887 ,  0.43211784,\n",
       "         0.65618766,  0.        ,  0.56957761,  0.57345402,  0.22765653],\n",
       "       [ 0.5553846 ,  0.35763796,  0.2333102 ,  0.65880705,  0.32012506,\n",
       "         0.65464129,  0.56957761,  0.        ,  0.4154738 ,  0.65681627],\n",
       "       [ 0.68081359,  0.31606935,  0.62998402,  0.80650516,  0.16043298,\n",
       "         0.24312143,  0.57345402,  0.4154738 ,  0.        ,  0.77091963],\n",
       "       [ 0.10216827,  0.45512154,  0.58550569,  0.06440164,  0.61682069,\n",
       "         0.87908269,  0.22765653,  0.65681627,  0.77091963,  0.        ]])"
      ]
     },
     "execution_count": 94,
     "metadata": {},
     "output_type": "execute_result"
    }
   ],
   "source": [
    "###44\n",
    "z = np.random.random([10,2])\n",
    "x,y = np.atleast_2d(z[:,0]), np.atleast_2d(z[:,1])\n",
    "np.sqrt((x-x.T) ** 2 + (y-y.T) ** 2)"
   ]
  },
  {
   "cell_type": "code",
   "execution_count": 96,
   "metadata": {},
   "outputs": [
    {
     "data": {
      "text/plain": [
       "array([ 0.,  1.,  2.,  3.,  4.,  5.,  6.,  7.,  8.,  9.], dtype=float32)"
      ]
     },
     "execution_count": 96,
     "metadata": {},
     "output_type": "execute_result"
    }
   ],
   "source": [
    "###45\n",
    "A = np.arange(10, dtype=np.int32)\n",
    "A = A.astype(np.float32, copy=False)\n",
    "A"
   ]
  },
  {
   "cell_type": "code",
   "execution_count": 97,
   "metadata": {},
   "outputs": [],
   "source": [
    "###46"
   ]
  },
  {
   "cell_type": "code",
   "execution_count": 98,
   "metadata": {},
   "outputs": [
    {
     "name": "stdout",
     "output_type": "stream",
     "text": [
      "((0, 0), 0)\n",
      "((0, 1), 1)\n",
      "((0, 2), 2)\n",
      "((1, 0), 3)\n",
      "((1, 1), 4)\n",
      "((1, 2), 5)\n",
      "((2, 0), 6)\n",
      "((2, 1), 7)\n",
      "((2, 2), 8)\n"
     ]
    }
   ],
   "source": [
    "### 47\n",
    "B = np.arange(9).reshape(3,3)\n",
    "for index, value in np.ndenumerate(B):\n",
    "    print(index, value)"
   ]
  },
  {
   "cell_type": "code",
   "execution_count": 99,
   "metadata": {},
   "outputs": [],
   "source": [
    "###48"
   ]
  },
  {
   "cell_type": "code",
   "execution_count": 101,
   "metadata": {},
   "outputs": [
    {
     "data": {
      "text/plain": [
       "array([[ 0.,  0.,  0.,  0.,  0.,  0.,  0.,  0.,  0.,  0.],\n",
       "       [ 0.,  0.,  0.,  0.,  0.,  0.,  0.,  0.,  0.,  0.],\n",
       "       [ 0.,  0.,  1.,  0.,  0.,  0.,  0.,  0.,  0.,  0.],\n",
       "       [ 0.,  0.,  0.,  0.,  0.,  0.,  0.,  0.,  0.,  0.],\n",
       "       [ 0.,  0.,  1.,  0.,  0.,  0.,  0.,  0.,  0.,  0.],\n",
       "       [ 0.,  0.,  0.,  0.,  0.,  0.,  0.,  0.,  0.,  0.],\n",
       "       [ 0.,  0.,  0.,  0.,  0.,  0.,  0.,  0.,  0.,  0.],\n",
       "       [ 0.,  0.,  0.,  0.,  0.,  0.,  0.,  0.,  1.,  0.],\n",
       "       [ 0.,  0.,  0.,  0.,  0.,  0.,  0.,  0.,  0.,  0.],\n",
       "       [ 0.,  0.,  0.,  0.,  0.,  0.,  0.,  0.,  0.,  0.]])"
      ]
     },
     "execution_count": 101,
     "metadata": {},
     "output_type": "execute_result"
    }
   ],
   "source": [
    "###49\n",
    "C = np.zeros((10,10))\n",
    "np.put(C, np.random.choice(range(100), 3, replace=False), 1)\n",
    "C"
   ]
  },
  {
   "cell_type": "code",
   "execution_count": 103,
   "metadata": {},
   "outputs": [
    {
     "data": {
      "text/plain": [
       "array([[ 0.02816723,  0.51178247, -0.40774304, -0.33352368, -0.20548172,\n",
       "        -0.2010164 ,  0.42553986, -0.45997545,  0.15995619,  0.48229453],\n",
       "       [ 0.24928776, -0.53758811,  0.06969169, -0.42745559, -0.09595299,\n",
       "         0.32071132,  0.23298883, -0.13134426,  0.2656177 ,  0.05404365],\n",
       "       [ 0.14257618,  0.30025689, -0.23220651,  0.13311417, -0.24544287,\n",
       "        -0.42016321,  0.22860011, -0.15335363,  0.03939121,  0.20722767],\n",
       "       [ 0.26660826,  0.16737283, -0.4576641 ,  0.3548411 , -0.40433054,\n",
       "         0.05336887,  0.30328142,  0.12964419, -0.36746431, -0.04565771],\n",
       "       [-0.05005832, -0.40813159,  0.39225879, -0.08286044,  0.16065906,\n",
       "        -0.02562469, -0.43098504,  0.11051145, -0.00331535,  0.33754614]])"
      ]
     },
     "execution_count": 103,
     "metadata": {},
     "output_type": "execute_result"
    }
   ],
   "source": [
    "###50\n",
    "D = np.random.rand(5, 10)\n",
    "D - D.mean(axis=1, keepdims=True)"
   ]
  },
  {
   "cell_type": "code",
   "execution_count": 104,
   "metadata": {},
   "outputs": [
    {
     "data": {
      "text/plain": [
       "array([[ 0.20925025,  0.17624681,  0.82829358,  0.52351857,  0.63555683],\n",
       "       [ 0.71925353,  0.18595637,  0.87172487,  0.0074777 ,  0.70643347],\n",
       "       [ 0.24100622,  0.76363841,  0.6785269 ,  0.315208  ,  0.77997596],\n",
       "       [ 0.69062449,  0.98106683,  0.34080868,  0.88503678,  0.85778745],\n",
       "       [ 0.76760303,  0.98478442,  0.67208615,  0.54283194,  0.86364742]])"
      ]
     },
     "execution_count": 104,
     "metadata": {},
     "output_type": "execute_result"
    }
   ],
   "source": [
    "###51\n",
    "def sortn(array, n):\n",
    "    return array[ array[:,n].argsort() ]\n",
    "\n",
    "sortn(np.random.random([5,5]), 1)"
   ]
  },
  {
   "cell_type": "code",
   "execution_count": 105,
   "metadata": {},
   "outputs": [
    {
     "data": {
      "text/plain": [
       "True"
      ]
     },
     "execution_count": 105,
     "metadata": {},
     "output_type": "execute_result"
    }
   ],
   "source": [
    "###52\n",
    "E = np.random.randint(0,3,(3,10))\n",
    "(~E.any(axis=0)).any()"
   ]
  },
  {
   "cell_type": "code",
   "execution_count": 106,
   "metadata": {},
   "outputs": [
    {
     "data": {
      "text/plain": [
       "0.6362033696186149"
      ]
     },
     "execution_count": 106,
     "metadata": {},
     "output_type": "execute_result"
    }
   ],
   "source": [
    "###53\n",
    "F = np.random.uniform(0,1,10)\n",
    "F.flat[np.abs(F - 0.5).argmin()]"
   ]
  },
  {
   "cell_type": "code",
   "execution_count": null,
   "metadata": {},
   "outputs": [],
   "source": []
  }
 ],
 "metadata": {
  "kernelspec": {
   "display_name": "Python 2",
   "language": "python",
   "name": "python2"
  },
  "language_info": {
   "codemirror_mode": {
    "name": "ipython",
    "version": 2
   },
   "file_extension": ".py",
   "mimetype": "text/x-python",
   "name": "python",
   "nbconvert_exporter": "python",
   "pygments_lexer": "ipython2",
   "version": "2.7.14"
  }
 },
 "nbformat": 4,
 "nbformat_minor": 2
}
